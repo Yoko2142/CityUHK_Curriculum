{
 "cells": [
  {
   "cell_type": "code",
   "execution_count": null,
   "id": "3c1b9343",
   "metadata": {},
   "outputs": [],
   "source": [
    "import pandas as pd\n",
    "import numpy as np\n",
    "import matplotlib.pyplot as plt\n",
    "import seaborn as sns\n",
    "from sklearn.linear_model import LinearRegression\n",
    "from sklearn.metrics import r2_score\n",
    "from sklearn.metrics import mean_squared_error"
   ]
  },
  {
   "cell_type": "markdown",
   "id": "3e33fb19",
   "metadata": {},
   "source": [
    "## Learning Goals\n",
    "<li> Indentify missing data</li>\n",
    "\n",
    "<li> Imputation with KNN</li>\n",
    "\n",
    "<li> Imputation with mean</li>\n",
    "<li> Imputation with mean linear Regression </li>\n",
    "\n",
    "<li> Compare the R2 score with teh different imputation method </li>\n",
    "</ol>"
   ]
  },
  {
   "cell_type": "markdown",
   "id": "85d7e269",
   "metadata": {},
   "source": [
    "### Part I. Indentify missing data"
   ]
  },
  {
   "cell_type": "code",
   "execution_count": null,
   "id": "397bf6d1",
   "metadata": {},
   "outputs": [],
   "source": [
    "# generate data set with NaNS\n",
    "df = pd.DataFrame(np.random.randn(10,6))\n",
    "# Make a few areas have NaN values\n",
    "df.iloc[1:3,1] = np.nan\n",
    "df.iloc[5,3] = np.nan\n",
    "df.iloc[7:9,5] = np.nan"
   ]
  },
  {
   "cell_type": "code",
   "execution_count": null,
   "id": "a8c2548b",
   "metadata": {},
   "outputs": [],
   "source": [
    "df"
   ]
  },
  {
   "cell_type": "code",
   "execution_count": null,
   "id": "a9a2cb5a",
   "metadata": {},
   "outputs": [],
   "source": [
    "# Indentify the NaNs with .isnull(), .isnull().any(), .isnull().sum()\n",
    "# you code here\n"
   ]
  },
  {
   "cell_type": "code",
   "execution_count": null,
   "id": "699131c8",
   "metadata": {},
   "outputs": [],
   "source": [
    "# Indentify the sepcific column hasnans with df['column'].hasnans\n"
   ]
  },
  {
   "cell_type": "code",
   "execution_count": null,
   "id": "29dec038",
   "metadata": {},
   "outputs": [],
   "source": []
  },
  {
   "cell_type": "code",
   "execution_count": null,
   "id": "42391602",
   "metadata": {},
   "outputs": [],
   "source": []
  },
  {
   "cell_type": "markdown",
   "id": "7b45ac54",
   "metadata": {},
   "source": [
    "## Part II: Imputation "
   ]
  },
  {
   "cell_type": "code",
   "execution_count": null,
   "id": "5e16d494",
   "metadata": {},
   "outputs": [],
   "source": [
    "# Let's generate another sample data with nans\n",
    "data = {\n",
    "    'Age': [25, np.nan, 30, 35, 40, np.nan, 50],\n",
    "    'Salary': [50000, 60000, np.nan, 65000, 70000, 80000, 90000],\n",
    "    'Experience': [1,3 ,5, 4, 5, 6, np.nan]\n",
    "}\n",
    "data_df = pd.DataFrame(data)\n"
   ]
  },
  {
   "cell_type": "code",
   "execution_count": null,
   "id": "6db9c66b",
   "metadata": {},
   "outputs": [],
   "source": [
    "# generate the scatter plot of data_df['Salary'] vs data_df['Age']\n"
   ]
  },
  {
   "cell_type": "code",
   "execution_count": null,
   "id": "c52e26d2",
   "metadata": {},
   "outputs": [],
   "source": [
    "# generate the scatter plot of data_df['Salary'] vs data_df['Experience']\n"
   ]
  },
  {
   "cell_type": "markdown",
   "id": "a86a9477",
   "metadata": {},
   "source": [
    "### Imputation with Mean\n",
    "\n",
    "sklearn.impute.SimpleImputer(strategy='mean')\n",
    "\n",
    "\n",
    ">imputer = SimpleImputer(strategy='mean')\n",
    "\n",
    ">imputed_data = imputer.fit_transform(data_with_nans)\n",
    "\n",
    "\n",
    "\n",
    "Replace missing values using a descriptive statistic (e.g. mean, median, or most frequent) along each column, or using a constant value.\n",
    "\n",
    "https://scikit-learn.org/stable/modules/generated/sklearn.impute.SimpleImputer.html\n",
    "\n",
    "\n"
   ]
  },
  {
   "cell_type": "code",
   "execution_count": null,
   "id": "dd1dd6fc",
   "metadata": {},
   "outputs": [],
   "source": [
    "from sklearn.impute import SimpleImputer\n",
    "\n",
    "# Initialize the SimpleImputer with 'mean' strategy\n",
    "\n",
    "imputer = SimpleImputer(strategy='mean')\n",
    "\n",
    "# Fit the imputer to the data and transform it to fill in missing values\n",
    "imputed_data = imputer.fit_transform(data_df)\n",
    "\n",
    "# Convert the array back to a DataFrame\n",
    "imputed_data_df = pd.DataFrame(imputed_data, columns=data_df.columns)\n",
    "\n",
    "imputed_data_df"
   ]
  },
  {
   "cell_type": "code",
   "execution_count": null,
   "id": "f60fa604",
   "metadata": {},
   "outputs": [],
   "source": [
    "data_df"
   ]
  },
  {
   "cell_type": "code",
   "execution_count": null,
   "id": "29e1c211",
   "metadata": {},
   "outputs": [],
   "source": [
    "# Initialize the SimpleImputer with 'median' strategy\n"
   ]
  },
  {
   "cell_type": "code",
   "execution_count": null,
   "id": "de230e40",
   "metadata": {},
   "outputs": [],
   "source": []
  },
  {
   "cell_type": "markdown",
   "id": "4f401211",
   "metadata": {},
   "source": [
    "### Imputation with KNN\n",
    "\n",
    "\n",
    "https://scikit-learn.org/stable/modules/generated/sklearn.impute.KNNImputer.html\n",
    "\n",
    "KNNimputer is a scikit-learn class used to fill out or predict the missing values in a dataset.\n",
    "In this approach, we specify a distance from the missing values which is also known as the K parameter. \n",
    "\n",
    "The missing value will be predicted in reference to the mean of the neighbours. It is implemented by the KNNimputer() method which contains the following arguments:\n",
    "\n",
    ">imputer = KNNImputer(n_neighbors=2)\n",
    "\n",
    ">imputer.fit_transform(X)\n"
   ]
  },
  {
   "cell_type": "code",
   "execution_count": null,
   "id": "de33f84f",
   "metadata": {},
   "outputs": [],
   "source": [
    "from sklearn.impute import KNNImputer\n",
    "\n",
    "# Create imputer object with n_neighbors set to 2\n"
   ]
  },
  {
   "cell_type": "code",
   "execution_count": null,
   "id": "d2af4b80",
   "metadata": {},
   "outputs": [],
   "source": [
    "# # Fit on the data and transform it and put in into the dataframe\n",
    "\n"
   ]
  },
  {
   "cell_type": "code",
   "execution_count": null,
   "id": "ee10b2ef",
   "metadata": {},
   "outputs": [],
   "source": [
    "print(\"Data after KNN Imputation:\")\n"
   ]
  },
  {
   "cell_type": "code",
   "execution_count": null,
   "id": "cbb84f9b",
   "metadata": {},
   "outputs": [],
   "source": []
  },
  {
   "cell_type": "markdown",
   "id": "26ed1396",
   "metadata": {},
   "source": [
    "### Imputation with LinearRegression\n"
   ]
  },
  {
   "cell_type": "code",
   "execution_count": null,
   "id": "c1432b75",
   "metadata": {},
   "outputs": [],
   "source": [
    "# Make a copy of the original DataFrame to avoid modifying it directly\n",
    "imputed_df = data_df.copy()"
   ]
  },
  {
   "cell_type": "code",
   "execution_count": null,
   "id": "e278f3d0",
   "metadata": {},
   "outputs": [],
   "source": [
    "# Step 1: Select the target column with missing values\n",
    "target_column = 'Age'\n",
    "\n",
    "# Prepare the data: Separate rows with and without missing target values\n",
    "complete_data = imputed_df.dropna(subset=[target_column])\n",
    "\n",
    "print ('This is the complete_data')\n",
    "print (complete_data)\n",
    "\n",
    "print ('----------------')\n",
    "\n",
    "missing_data = imputed_df[imputed_df[target_column].isna()]\n",
    "print ('This is the complete_data')\n",
    "print (missing_data)\n"
   ]
  },
  {
   "cell_type": "code",
   "execution_count": null,
   "id": "b588abed",
   "metadata": {},
   "outputs": [],
   "source": [
    "# Step 2: Prepare the training data (excluding rows with missing target values)\n",
    "X_train = complete_data.drop(columns=[target_column])\n",
    "y_train = complete_data[target_column]"
   ]
  },
  {
   "cell_type": "code",
   "execution_count": null,
   "id": "a90fedbe",
   "metadata": {},
   "outputs": [],
   "source": [
    "# Handle missing values in predictor columns for training (simple imputation)\n",
    "for column in X_train.columns:\n",
    "    if X_train[column].isna().any():\n",
    "        X_train[column].fillna(X_train[column].mean(), inplace=True)\n",
    "\n",
    "# Step 3: Train the linear regression model\n",
    "model = LinearRegression()\n",
    "model.fit(X_train, y_train)"
   ]
  },
  {
   "cell_type": "code",
   "execution_count": null,
   "id": "d5dda47b",
   "metadata": {},
   "outputs": [],
   "source": [
    "model.coef_"
   ]
  },
  {
   "cell_type": "code",
   "execution_count": null,
   "id": "b048ed9a",
   "metadata": {},
   "outputs": [],
   "source": [
    "# Prepare the data for prediction (exclude target column and handle missing predictors)\n",
    "X_missing = missing_data.drop(columns=[target_column])\n",
    "for column in X_missing.columns:\n",
    "    if X_missing[column].isna().any():\n",
    "        X_missing[column].fillna(X_missing[column].mean(), inplace=True)"
   ]
  },
  {
   "cell_type": "code",
   "execution_count": null,
   "id": "d09d37dd",
   "metadata": {},
   "outputs": [],
   "source": [
    "X_missing"
   ]
  },
  {
   "cell_type": "code",
   "execution_count": null,
   "id": "7d4c167e",
   "metadata": {},
   "outputs": [],
   "source": [
    "# Step 4: Predict the missing values in the target column\n",
    "predicted_values = model.predict(X_missing)\n"
   ]
  },
  {
   "cell_type": "code",
   "execution_count": null,
   "id": "176a3932",
   "metadata": {},
   "outputs": [],
   "source": [
    "# Step 5: Fdata_df_imput=ill in the missing values in the original dataset\n",
    "imputed_df.loc[imputed_df[target_column].isna(), target_column] = predicted_values\n"
   ]
  },
  {
   "cell_type": "code",
   "execution_count": null,
   "id": "50d8f209",
   "metadata": {},
   "outputs": [],
   "source": [
    "imputed_df"
   ]
  },
  {
   "cell_type": "code",
   "execution_count": null,
   "id": "a266de39",
   "metadata": {},
   "outputs": [],
   "source": [
    "data_df"
   ]
  },
  {
   "cell_type": "code",
   "execution_count": null,
   "id": "5b19605f",
   "metadata": {},
   "outputs": [],
   "source": [
    "def linear_regression_imputation(data_df,target_column):\n",
    " \n",
    "    # Make a copy of the original DataFrame to avoid modifying it directly\n",
    "    imputed_df = data_df.copy()\n",
    "    \n",
    "    # Step 1: Select the target column with missing values\n",
    "    complete_data = imputed_df.dropna(subset=[target_column])\n",
    " \n",
    "    missing_data = imputed_df[imputed_df[target_column].isna()]\n",
    "    # Step 2: Prepare the training data (excluding rows with missing target values)\n",
    "    X_train = complete_data.drop(columns=[target_column])\n",
    "    y_train = complete_data[target_column]\n",
    "    \n",
    "    # Handle missing values in predictor columns for training (simple imputation)\n",
    "    for column in X_train.columns:\n",
    "        if X_train[column].isna().any():\n",
    "            X_train[column].fillna(X_train[column].mean(), inplace=True)\n",
    "            \n",
    "    # Step 3: Train the linear regression model\n",
    "    model = LinearRegression()\n",
    "    model.fit(X_train, y_train)\n",
    "    # Prepare the data for prediction (exclude target column and handle missing predictors)\n",
    "    X_missing = missing_data.drop(columns=[target_column])\n",
    "    for column in X_missing.columns:\n",
    "        if X_missing[column].isna().any():\n",
    "            X_missing[column].fillna(X_missing[column].mean(), inplace=True)\n",
    "    # Step 4: Predict the missing values in the target column\n",
    "    \n",
    "    predicted_values = model.predict(X_missing)\n",
    "    # Step 5: Fdata_df_imput=ill in the missing values in the original dataset\n",
    "    imputed_df.loc[imputed_df[target_column].isna(), target_column] = predicted_values\n",
    "\n",
    "\n",
    "\n",
    "    return imputed_df\n",
    "\n"
   ]
  },
  {
   "cell_type": "code",
   "execution_count": null,
   "id": "d1441dcb",
   "metadata": {},
   "outputs": [],
   "source": [
    "data_df_imputed = linear_regression_imputation(data_df,'Age')\n",
    "data_df_imputed=pd.DataFrame(data_df_imputed, columns=data_df.columns)\n",
    "data_df_imputed"
   ]
  },
  {
   "cell_type": "code",
   "execution_count": null,
   "id": "80290933",
   "metadata": {},
   "outputs": [],
   "source": [
    "data_df_imputed = linear_regression_imputation(data_df,'Experience')\n",
    "data_df_imputed=pd.DataFrame(data_df_imputed, columns=data_df.columns)\n",
    "data_df_imputed"
   ]
  },
  {
   "cell_type": "markdown",
   "id": "ebf301cd",
   "metadata": {},
   "source": [
    "### Imputation with LinearRegression with uncertainty"
   ]
  },
  {
   "cell_type": "code",
   "execution_count": null,
   "id": "8e79b69a",
   "metadata": {},
   "outputs": [],
   "source": [
    "def linear_regression_imputation_with_uncertainty(df, target):\n",
    "    # Impute other columns using mean imputation to handle NaNs in predictors\n",
    "    imputer = SimpleImputer(strategy='mean')\n",
    "    predictors = df.drop(columns=[target])\n",
    "    df[predictors.columns] = imputer.fit_transform(predictors)\n",
    "\n",
    "    # Separate into datasets with and without missing target values\n",
    "    df_with_target = df[df[target].notnull()]\n",
    "    df_without_target = df[df[target].isnull()]\n",
    "\n",
    "    # Check if there is anything to impute\n",
    "    if df_without_target.empty:\n",
    "        return df\n",
    "\n",
    "    # Separate target and predictors\n",
    "    X = df_with_target.drop(columns=[target])\n",
    "    y = df_with_target[target]\n",
    "\n",
    "    # Fit the model\n",
    "    model = LinearRegression()\n",
    "    model.fit(X, y)\n",
    "\n",
    "    # Predict and calculate the error on the training set\n",
    "    predictions = model.predict(X)\n",
    "    mse = mean_squared_error(y, predictions)\n",
    "    rmse = np.sqrt(mse)\n",
    "\n",
    "    # Predict the missing values\n",
    "    X_missing = df_without_target.drop(columns=[target])\n",
    "    predicted = model.predict(X_missing)\n",
    "\n",
    "    # Add random noise to the predicted values to introduce uncertainty\n",
    "    # Noise is drawn from a normal distribution with mean 0 and std equal to rmse\n",
    "    noise = np.random.normal(0, rmse, size=predicted.shape)\n",
    "    predicted_with_uncertainty = predicted + noise\n",
    "\n",
    "    df.loc[df[target].isnull(), target] = predicted_with_uncertainty\n",
    "\n",
    "    return df\n"
   ]
  },
  {
   "cell_type": "code",
   "execution_count": null,
   "id": "91625b98",
   "metadata": {},
   "outputs": [],
   "source": [
    "# Apply the function for each column with missing values\n",
    "for column in data_df.columns:\n",
    "    df_3 = linear_regression_imputation_with_uncertainty(data_df, column)"
   ]
  },
  {
   "cell_type": "code",
   "execution_count": null,
   "id": "7af82bd9",
   "metadata": {},
   "outputs": [],
   "source": [
    "print(\"Data after Linear Regression Imputation with Uncertainty:\")\n",
    "df_3"
   ]
  },
  {
   "cell_type": "code",
   "execution_count": null,
   "id": "6fcc0eb9",
   "metadata": {},
   "outputs": [],
   "source": []
  },
  {
   "cell_type": "markdown",
   "id": "f68e5e36",
   "metadata": {},
   "source": [
    "### Exercise : \n",
    "\n",
    "1. Read a larger data set from missing_data_df.csv \n",
    "2. Indentify the NaNs in each columns\n",
    "\n",
    "\n",
    "3. Plot the Salary with Age and Salary with Experience\n",
    "\n",
    "4. Do the imputation with \n",
    "1) drop nan\n",
    "2) Mean\n",
    "4) KNN\n",
    "3) Linear regression with linear_regression_imputation_with_uncertainty\n",
    "\n",
    "5. Compute the linear regression R2 score with the three imputation method"
   ]
  },
  {
   "cell_type": "code",
   "execution_count": null,
   "id": "431f8090",
   "metadata": {},
   "outputs": [],
   "source": [
    "larger_data_df = pd.read_csv(\"data/missing_data_df.csv\")\n",
    "larger_data_df.head()"
   ]
  },
  {
   "cell_type": "code",
   "execution_count": null,
   "id": "9197f35b",
   "metadata": {},
   "outputs": [],
   "source": []
  },
  {
   "cell_type": "code",
   "execution_count": null,
   "id": "97da59a6",
   "metadata": {},
   "outputs": [],
   "source": []
  }
 ],
 "metadata": {
  "kernelspec": {
   "display_name": "Python 3",
   "language": "python",
   "name": "python3"
  },
  "language_info": {
   "codemirror_mode": {
    "name": "ipython",
    "version": 3
   },
   "file_extension": ".py",
   "mimetype": "text/x-python",
   "name": "python",
   "nbconvert_exporter": "python",
   "pygments_lexer": "ipython3",
   "version": "3.8.8"
  }
 },
 "nbformat": 4,
 "nbformat_minor": 5
}
