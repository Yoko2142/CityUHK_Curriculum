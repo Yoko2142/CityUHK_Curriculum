{
 "cells": [
  {
   "cell_type": "code",
   "execution_count": null,
   "metadata": {
    "colab": {
     "base_uri": "https://localhost:8080/",
     "height": 70
    },
    "colab_type": "code",
    "id": "JfEq-JgsP5BO",
    "outputId": "f8822af7-e3c6-4363-d9ca-0538137a7862"
   },
   "outputs": [],
   "source": [
    "# Data and Stats packages\n",
    "import numpy as np\n",
    "import pandas as pd\n",
    "from sklearn import metrics, datasets\n",
    "from sklearn.model_selection import train_test_split\n",
    "import statsmodels.api as sm \n",
    "\n",
    "# Visualization packages\n",
    "%matplotlib inline\n",
    "import matplotlib\n",
    "import matplotlib.pyplot as plt\n",
    "import matplotlib.patches as mpatches\n",
    "import seaborn as sns\n",
    "matplotlib.rcParams['figure.figsize'] = (13.0, 6.0)\n",
    "\n",
    "# Other Helpful fucntions\n",
    "import warnings\n",
    "warnings.filterwarnings(\"ignore\")\n",
    "\n",
    "#Aesthetic settings\n",
    "from IPython.display import display\n",
    "pd.set_option('display.max_rows', 999)\n",
    "pd.set_option('display.width', 500)"
   ]
  },
  {
   "cell_type": "markdown",
   "metadata": {
    "colab_type": "text",
    "id": "7IhthgP5P5CH"
   },
   "source": [
    "## 1. Extending Linear Regression by Transforming Predictors"
   ]
  },
  {
   "cell_type": "markdown",
   "metadata": {
    "colab_type": "text",
    "id": "I7jCXcNmP5CI"
   },
   "source": [
    "Linear regression works great when our features are all continuous and all linearly affect the output. But often real data have more interesting characteristics. Here, we'll look at how we can extend linear regression to handle:\n",
    "\n",
    "* Categorical predictors, like gender, which have one of a few discrete values\n",
    "* Interactions between predictors, which let us model how one variable changes the effect of another.\n",
    "\n",
    "For our dataset, we'll be using the passenger list from the Titanic, which famously sank in 1912. Let's have a look at the data. Some descriptions of the data are at https://www.kaggle.com/c/titanic/data, and here's [how seaborn preprocessed it](https://github.com/mwaskom/seaborn-data/blob/master/process/titanic.py)."
   ]
  },
  {
   "cell_type": "code",
   "execution_count": null,
   "metadata": {
    "colab": {
     "base_uri": "https://localhost:8080/",
     "height": 215
    },
    "colab_type": "code",
    "id": "k3N2ECgfP5CI",
    "outputId": "49829d5b-c837-47e4-b862-106ec201bb26"
   },
   "outputs": [],
   "source": [
    "# you can also load the dataset from seaborn \n",
    "titanic = sns.load_dataset(\"titanic\")\n",
    "titanic.head()"
   ]
  },
  {
   "cell_type": "markdown",
   "metadata": {},
   "source": [
    "Note:\n",
    "sns.load_dataset(\"titanic\") load_dataset function loads data from a predefined set of datasets hosted by Seaborn, while Pandas' read_csv function can load data from any CSV file specified by the user.\n",
    "\n",
    "sns.load_dataset(\"titanic\") uses the Seaborn library (sns),it provides an interface to load example datasets that are hosted in its online repository.\n",
    "\n",
    "When you call sns.load_dataset(\"titanic\"), it accesses the Titanic dataset from the Seaborn's online repository, downloads it (if not already cached), and returns a Pandas DataFrame.\n",
    "\n",
    "Seaborn's load_dataset specifically loads datasets that are already formatted and stored in a way that's compatible with Seaborn's data structure requirements, whereas pd.read_csv can read any text file that is structured as a CSV, allowing for more customization in terms of data source and structure."
   ]
  },
  {
   "cell_type": "code",
   "execution_count": null,
   "metadata": {
    "colab": {},
    "colab_type": "code",
    "id": "N3l0V_QDXdrf"
   },
   "outputs": [],
   "source": [
    "# Keep only a subset of the predictors; some are redundant, others (like deck) have too many missing values.\n",
    "titanic = titanic[['age', 'sex', 'class', 'embark_town', 'alone', 'fare']]"
   ]
  },
  {
   "cell_type": "markdown",
   "metadata": {},
   "source": [
    "**Exercise **: \n",
    "check the dataframe information through titanic.info()"
   ]
  },
  {
   "cell_type": "code",
   "execution_count": null,
   "metadata": {
    "colab": {
     "base_uri": "https://localhost:8080/",
     "height": 170
    },
    "colab_type": "code",
    "id": "uiDggiVkRlOU",
    "outputId": "640db74c-84e5-49ad-f1fd-99ecbe1d651a"
   },
   "outputs": [],
   "source": [
    "# check the dataframe information through titanic.info()\n"
   ]
  },
  {
   "cell_type": "code",
   "execution_count": null,
   "metadata": {
    "scrolled": false
   },
   "outputs": [],
   "source": []
  },
  {
   "cell_type": "code",
   "execution_count": null,
   "metadata": {
    "colab": {
     "base_uri": "https://localhost:8080/",
     "height": 170
    },
    "colab_type": "code",
    "id": "x2wvtyO-R59v",
    "outputId": "4c84571c-2ebf-4608-fda8-e7a4f3402049"
   },
   "outputs": [],
   "source": [
    "# Drop missing data through .dropna() and check the dataframe information\n"
   ]
  },
  {
   "cell_type": "markdown",
   "metadata": {
    "colab_type": "text",
    "id": "NPQpANf2eZ0Z"
   },
   "source": [
    "### First let's look at the distribution of fares."
   ]
  },
  {
   "cell_type": "markdown",
   "metadata": {},
   "source": [
    "<div class=\"exercise\">**Exercise 2**: Show the distribution of fares in at least two ways.You may use functions from matplotlib, Pandas, or Seaborn.</div>"
   ]
  },
  {
   "cell_type": "code",
   "execution_count": null,
   "metadata": {
    "colab": {
     "base_uri": "https://localhost:8080/",
     "height": 170
    },
    "colab_type": "code",
    "id": "gE1Zjgf_edU5",
    "outputId": "c0851f01-9477-4626-bb81-3dcfdb11fc51"
   },
   "outputs": [],
   "source": [
    "# Your code here\n"
   ]
  },
  {
   "cell_type": "code",
   "execution_count": null,
   "metadata": {},
   "outputs": [],
   "source": []
  },
  {
   "cell_type": "code",
   "execution_count": null,
   "metadata": {},
   "outputs": [],
   "source": []
  },
  {
   "cell_type": "code",
   "execution_count": null,
   "metadata": {},
   "outputs": [],
   "source": []
  },
  {
   "cell_type": "code",
   "execution_count": null,
   "metadata": {},
   "outputs": [],
   "source": []
  },
  {
   "cell_type": "markdown",
   "metadata": {},
   "source": [
    "### Exploring predictors"
   ]
  },
  {
   "cell_type": "markdown",
   "metadata": {
    "colab_type": "text",
    "id": "K1vgnVjXfL6B"
   },
   "source": [
    "Cabin class is probably going to matter for fare, but we might wonder if age and gender also matter. Let's explore them."
   ]
  },
  {
   "cell_type": "code",
   "execution_count": null,
   "metadata": {
    "colab": {
     "base_uri": "https://localhost:8080/",
     "height": 296
    },
    "colab_type": "code",
    "id": "zYsj6roaRLdX",
    "outputId": "7221f900-2888-4f28-f835-02d84abcb7d9"
   },
   "outputs": [],
   "source": [
    "sns.distplot(titanic.age)"
   ]
  },
  {
   "cell_type": "code",
   "execution_count": null,
   "metadata": {
    "colab": {
     "base_uri": "https://localhost:8080/",
     "height": 602
    },
    "colab_type": "code",
    "id": "gnSM0FbFSXcC",
    "outputId": "c3b4451c-92bc-4097-aa44-d5d2fd95becf"
   },
   "outputs": [],
   "source": [
    "sns.lmplot(x=\"age\", y=\"fare\", hue=\"sex\", data=titanic)"
   ]
  },
  {
   "cell_type": "markdown",
   "metadata": {},
   "source": [
    "Hmm... the slopes seem to be different for males and females."
   ]
  },
  {
   "cell_type": "markdown",
   "metadata": {},
   "source": [
    "How about class?"
   ]
  },
  {
   "cell_type": "code",
   "execution_count": null,
   "metadata": {},
   "outputs": [],
   "source": []
  },
  {
   "cell_type": "code",
   "execution_count": null,
   "metadata": {
    "colab": {
     "base_uri": "https://localhost:8080/",
     "height": 296
    },
    "colab_type": "code",
    "id": "SETvpblUTIfU",
    "outputId": "b9e76e3d-e8c8-4552-878b-d445969d3502"
   },
   "outputs": [],
   "source": []
  },
  {
   "cell_type": "markdown",
   "metadata": {
    "colab_type": "text",
    "id": "fJK_rkcPTpD5"
   },
   "source": [
    "So it looks like fare varies with class, age, and maybe gender, and the way that fare depends on class and age may be different for male vs female.\n",
    "\n",
    "### Let's first do a simple linear regression on age with the statsmodels"
   ]
  },
  {
   "cell_type": "code",
   "execution_count": null,
   "metadata": {
    "colab": {
     "base_uri": "https://localhost:8080/",
     "height": 444
    },
    "colab_type": "code",
    "id": "JudMdrUpTpbL",
    "outputId": "3ace581b-b847-40c8-a580-b580391b8b36"
   },
   "outputs": [],
   "source": [
    "# your code here\n"
   ]
  },
  {
   "cell_type": "code",
   "execution_count": null,
   "metadata": {},
   "outputs": [],
   "source": [
    "# check the model summary"
   ]
  },
  {
   "cell_type": "markdown",
   "metadata": {
    "colab_type": "text",
    "id": "zrHXCrJNf1xc"
   },
   "source": [
    "How do we interpret this?\n",
    "\n",
    "* How good is this model?\n",
    "* Does age affect fare? How can we tell? And if so, how?"
   ]
  },
  {
   "cell_type": "code",
   "execution_count": null,
   "metadata": {},
   "outputs": [],
   "source": []
  },
  {
   "cell_type": "markdown",
   "metadata": {},
   "source": [
    "But Class and Gender are categorical variables"
   ]
  },
  {
   "cell_type": "code",
   "execution_count": null,
   "metadata": {},
   "outputs": [],
   "source": []
  },
  {
   "cell_type": "code",
   "execution_count": null,
   "metadata": {},
   "outputs": [],
   "source": []
  },
  {
   "cell_type": "markdown",
   "metadata": {},
   "source": [
    "### Handling categorical variables"
   ]
  },
  {
   "cell_type": "markdown",
   "metadata": {
    "colab_type": "text",
    "id": "ESeqInU9Tnt5"
   },
   "source": [
    "How do we deal with gender, or class? They're categorical variables. We'll need to use dummy variables to encode them."
   ]
  },
  {
   "cell_type": "code",
   "execution_count": null,
   "metadata": {},
   "outputs": [],
   "source": [
    "titanic_orig = titanic.copy()"
   ]
  },
  {
   "cell_type": "markdown",
   "metadata": {},
   "source": [
    "<div class=\"exercise\">**Exercise 3**: Create a column `sex_male` that is 1 if the passenger is male, 0 otherwise.</div>"
   ]
  },
  {
   "cell_type": "code",
   "execution_count": null,
   "metadata": {},
   "outputs": [],
   "source": [
    "# Your code here\n",
    "titanic['sex_male'] = (titanic.sex == 'male').astype(int)"
   ]
  },
  {
   "cell_type": "markdown",
   "metadata": {},
   "source": [
    "<div class=\"exercise\">**Exercise 3**: Do we need a `sex_female` column, or any others? Why or why not?</div>"
   ]
  },
  {
   "cell_type": "code",
   "execution_count": null,
   "metadata": {},
   "outputs": [],
   "source": []
  },
  {
   "cell_type": "markdown",
   "metadata": {},
   "source": [
    "<div class=\"exercise\">**Exercise 4**: Create columns for `class_`</div>"
   ]
  },
  {
   "cell_type": "code",
   "execution_count": null,
   "metadata": {},
   "outputs": [],
   "source": [
    "# Your code here\n",
    "titanic['class_Second'] = (titanic['class'] == 'Second').astype(int)\n",
    "titanic['class_Third'] = 1 * (titanic['class'] == 'Third') # just another way to do it"
   ]
  },
  {
   "cell_type": "code",
   "execution_count": null,
   "metadata": {},
   "outputs": [],
   "source": [
    "titanic.info()"
   ]
  },
  {
   "cell_type": "code",
   "execution_count": null,
   "metadata": {},
   "outputs": [],
   "source": [
    "titanic.head()"
   ]
  },
  {
   "cell_type": "markdown",
   "metadata": {},
   "source": [
    "#### You can also use pd.get_dummies to convert categorical variable into dummy/indicator variables."
   ]
  },
  {
   "cell_type": "code",
   "execution_count": null,
   "metadata": {
    "colab": {
     "base_uri": "https://localhost:8080/",
     "height": 204
    },
    "colab_type": "code",
    "id": "qTxXqm6wW22a",
    "outputId": "e8f01d1a-ea5f-4711-a41f-96d92d13e507"
   },
   "outputs": [],
   "source": [
    "\n",
    "# This function automates the above:\n",
    "titanic = pd.get_dummies(titanic_orig, columns=['sex', 'class'], drop_first=True)\n",
    "titanic.head()"
   ]
  },
  {
   "cell_type": "markdown",
   "metadata": {},
   "source": [
    "<div class=\"exercise\">**Exercise 5**: Fit a linear regression including the new sex and class variables.</div>"
   ]
  },
  {
   "cell_type": "code",
   "execution_count": null,
   "metadata": {
    "colab": {
     "base_uri": "https://localhost:8080/",
     "height": 507
    },
    "colab_type": "code",
    "id": "ZtEXD-ZWYGuT",
    "outputId": "b991b04a-5e5c-4080-b128-67b5415f8c50"
   },
   "outputs": [],
   "source": [
    "# Your code here\n"
   ]
  },
  {
   "cell_type": "markdown",
   "metadata": {
    "colab_type": "text",
    "id": "zl3IDAtqP5Ck"
   },
   "source": [
    "<div class='exercise'> **Exercise 6** How do we interpret these results?</div>\n",
    "* All else being equal, what does being male do to the fare?\n",
    "* What can we say about being *male* and *first-class*?\n"
   ]
  },
  {
   "cell_type": "code",
   "execution_count": null,
   "metadata": {},
   "outputs": [],
   "source": []
  },
  {
   "cell_type": "code",
   "execution_count": null,
   "metadata": {},
   "outputs": [],
   "source": []
  },
  {
   "cell_type": "markdown",
   "metadata": {},
   "source": [
    "## Interactions"
   ]
  },
  {
   "cell_type": "code",
   "execution_count": null,
   "metadata": {
    "colab": {
     "base_uri": "https://localhost:8080/",
     "height": 528
    },
    "colab_type": "code",
    "id": "8oRObtxEYlGi",
    "outputId": "ca3661e0-6f01-4128-9ecb-cd36775ae462"
   },
   "outputs": [],
   "source": [
    "# It seemed like gender interacted with age and class. Can we put that in our model?\n",
    "# hint: titanic['sex_male_X_age'] = titanic['age'] * titanic['sex_male']\n",
    "\n",
    "# fit the model with the interaction term\n",
    "\n",
    "# Hint: fit the model with titanic[['age', 'sex_male', 'class_Second', 'class_Third', 'sex_male_X_age']]\n"
   ]
  },
  {
   "cell_type": "markdown",
   "metadata": {
    "colab": {},
    "colab_type": "code",
    "id": "uuOUlHs5Zdxr"
   },
   "source": [
    "** What happened to the `age` and `male` terms? **"
   ]
  },
  {
   "cell_type": "code",
   "execution_count": null,
   "metadata": {
    "colab": {
     "base_uri": "https://localhost:8080/",
     "height": 570
    },
    "colab_type": "code",
    "id": "29Nbm25-ZoOj",
    "outputId": "91eb202e-6da3-4ecb-e76d-1d7a5b5a2617"
   },
   "outputs": [],
   "source": [
    "# It seemed like gender interacted with age and class. Can we put that in our model?\n",
    "# titanic['sex_male_X_class_Second'] = titanic['age'] * titanic['class_Second']\n",
    "# titanic['sex_male_X_class_Third'] = titanic['age'] * titanic['class_Third']"
   ]
  },
  {
   "cell_type": "markdown",
   "metadata": {},
   "source": [
    "What has happened to the $R^2$ as we added more features? "
   ]
  },
  {
   "cell_type": "code",
   "execution_count": null,
   "metadata": {},
   "outputs": [],
   "source": [
    "# models = [model1, model2, model3, model4]\n",
    "# plt.plot([model.df_model for model in models], [model.rsquared for model in models], 'x-')"
   ]
  },
  {
   "cell_type": "code",
   "execution_count": null,
   "metadata": {},
   "outputs": [],
   "source": []
  }
 ],
 "metadata": {
  "colab": {
   "collapsed_sections": [
    "QAno5_o3P5Dg",
    "k33gGB0LP5D1",
    "ESjMwJc6P5D1"
   ],
   "name": "section_3_solutions.ipynb",
   "provenance": [],
   "toc_visible": true,
   "version": "0.3.2"
  },
  "kernelspec": {
   "display_name": "Python 3",
   "language": "python",
   "name": "python3"
  },
  "language_info": {
   "codemirror_mode": {
    "name": "ipython",
    "version": 3
   },
   "file_extension": ".py",
   "mimetype": "text/x-python",
   "name": "python",
   "nbconvert_exporter": "python",
   "pygments_lexer": "ipython3",
   "version": "3.8.8"
  }
 },
 "nbformat": 4,
 "nbformat_minor": 1
}
