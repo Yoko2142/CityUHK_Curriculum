{
 "cells": [
  {
   "cell_type": "markdown",
   "metadata": {},
   "source": [
    "##  Multiple and Polynomial Regression \n"
   ]
  },
  {
   "cell_type": "markdown",
   "metadata": {},
   "source": [
    "## Learning Goals\n",
    "<li> Revisit pandas dataframe</li>\n",
    "\n",
    "<li> Explore the data with scatter plot, histgram, probability distribution plot</li>\n",
    "\n",
    "\n",
    "<li> Plot the diurnal variation for time series data with the groupby in the boxplot</li>\n",
    "\n",
    "<li> Revisit simple linear Regression</li>\n",
    "<li> Simple linear Regression with CI</li>\n",
    "\n",
    "<li> Multiple regression with Polynomial features </li>\n",
    "</ol>"
   ]
  },
  {
   "cell_type": "code",
   "execution_count": null,
   "metadata": {},
   "outputs": [],
   "source": [
    "# import the necessary libraries\n",
    "import warnings\n",
    "warnings.filterwarnings('ignore')\n",
    "%matplotlib inline\n",
    "\n",
    "import numpy as np\n",
    "import pandas as pd\n",
    "import matplotlib.pyplot as plt\n",
    "import seaborn as sns\n",
    "\n",
    "\n",
    "import statsmodels.api as sm\n",
    "from statsmodels.api import OLS\n",
    "from sklearn.linear_model import LinearRegression\n",
    "from sklearn import preprocessing\n",
    "from sklearn.preprocessing import PolynomialFeatures\n",
    "from sklearn.metrics import r2_score\n"
   ]
  },
  {
   "cell_type": "markdown",
   "metadata": {},
   "source": [
    "### Revisit pandas dataframe"
   ]
  },
  {
   "cell_type": "markdown",
   "metadata": {},
   "source": [
    "Read the dataset_1 with contains Number of Taxi Pickups and Time of Day (min) into pandas dataframe\n",
    "\n"
   ]
  },
  {
   "cell_type": "code",
   "execution_count": null,
   "metadata": {},
   "outputs": [],
   "source": [
    "# read in the data\n",
    "cab_df = pd.read_csv(\"data/dataset_1.txt\")"
   ]
  },
  {
   "cell_type": "code",
   "execution_count": null,
   "metadata": {},
   "outputs": [],
   "source": [
    "# Explore the data with column head and descriptive feactures\n",
    "# you code here"
   ]
  },
  {
   "cell_type": "code",
   "execution_count": null,
   "metadata": {},
   "outputs": [],
   "source": []
  },
  {
   "cell_type": "code",
   "execution_count": null,
   "metadata": {},
   "outputs": [],
   "source": [
    "# make a new dataframe called train_data with the cad_df data \n",
    "# try it with train_data=cab_df\n"
   ]
  },
  {
   "cell_type": "code",
   "execution_count": null,
   "metadata": {},
   "outputs": [],
   "source": []
  },
  {
   "cell_type": "code",
   "execution_count": null,
   "metadata": {},
   "outputs": [],
   "source": [
    "# Create an hour column \n",
    "# you code here\n"
   ]
  },
  {
   "cell_type": "code",
   "execution_count": null,
   "metadata": {},
   "outputs": [],
   "source": [
    "# Explore the data with column head and descriptive feactures\n"
   ]
  },
  {
   "cell_type": "code",
   "execution_count": null,
   "metadata": {},
   "outputs": [],
   "source": []
  },
  {
   "cell_type": "code",
   "execution_count": null,
   "metadata": {},
   "outputs": [],
   "source": [
    "# try all again with  train_data=cab_df.copy() and see the difference"
   ]
  },
  {
   "cell_type": "code",
   "execution_count": null,
   "metadata": {},
   "outputs": [],
   "source": [
    "# Explore the data with column head and descriptive feactures\n"
   ]
  },
  {
   "cell_type": "markdown",
   "metadata": {},
   "source": [
    "### Plot the data with scatter plot\n",
    "\n",
    "https://matplotlib.org/stable/api/_as_gen/matplotlib.pyplot.scatter.html#matplotlib.pyplot.scatter"
   ]
  },
  {
   "cell_type": "code",
   "execution_count": null,
   "metadata": {},
   "outputs": [],
   "source": [
    "# you code here\n"
   ]
  },
  {
   "cell_type": "markdown",
   "metadata": {},
   "source": [
    "### Plot the data with histgram\n",
    "\n",
    "https://matplotlib.org/stable/api/_as_gen/matplotlib.pyplot.hist.html"
   ]
  },
  {
   "cell_type": "code",
   "execution_count": null,
   "metadata": {},
   "outputs": [],
   "source": [
    "# you code here\n",
    "\n"
   ]
  },
  {
   "cell_type": "markdown",
   "metadata": {},
   "source": [
    "### Plot the data with seaborn\n",
    "\n",
    "    \n",
    "https://seaborn.pydata.org/generated/seaborn.histplot.html"
   ]
  },
  {
   "cell_type": "code",
   "execution_count": null,
   "metadata": {},
   "outputs": [],
   "source": [
    "import seaborn as sns\n"
   ]
  },
  {
   "cell_type": "markdown",
   "metadata": {},
   "source": [
    "### Plot the diurnal variation for time series data with the groupby hour in the boxplot</li>\n"
   ]
  },
  {
   "cell_type": "code",
   "execution_count": null,
   "metadata": {},
   "outputs": [],
   "source": [
    "train_data.boxplot(column='PickupCount', by='Hour') # This is the key!\n",
    "\n",
    "plt.title('Box Plot of PickupCount Grouped by Hour')\n",
    "plt.suptitle('')   # Removes the default subtitle to clean up the plot title\n",
    "plt.xlabel('Hour of the Day')\n",
    "plt.ylabel('Value')\n",
    "plt.xticks(fontsize=10, rotation=45)\n",
    "plt.show()"
   ]
  },
  {
   "cell_type": "code",
   "execution_count": null,
   "metadata": {},
   "outputs": [],
   "source": [
    "# Creating the box plot\n",
    "\n",
    "sns.boxplot(x='Hour', y='PickupCount', data=train_data) # This is the key!\n",
    "plt.title('Box Plot of PickupCount Grouped by Hour')\n",
    "\n",
    "plt.suptitle('')   # Removes the default subtitle to clean up the plot title\n",
    "plt.xlabel('Hour of the Day')\n",
    "plt.ylabel('Value')\n",
    "plt.xticks(fontsize=10, rotation=45)\n",
    "plt.show()"
   ]
  },
  {
   "cell_type": "markdown",
   "metadata": {},
   "source": [
    "### Question: \n",
    "What if we want to add the average data for each group?"
   ]
  },
  {
   "cell_type": "code",
   "execution_count": null,
   "metadata": {},
   "outputs": [],
   "source": [
    "hourly_means = train_data.groupby('Hour')['PickupCount'].mean()"
   ]
  },
  {
   "cell_type": "code",
   "execution_count": null,
   "metadata": {},
   "outputs": [],
   "source": [
    "# add the hourly_means data to the previous plot\n",
    "# you code here"
   ]
  },
  {
   "cell_type": "markdown",
   "metadata": {},
   "source": [
    "### Revisit simple linear Regression\n"
   ]
  },
  {
   "cell_type": "markdown",
   "metadata": {},
   "source": [
    "### Simple linear regression with SK-learn\n",
    "\n",
    "https://scikit-learn.org/stable/modules/generated/sklearn.linear_model.LinearRegression.html"
   ]
  },
  {
   "cell_type": "code",
   "execution_count": null,
   "metadata": {},
   "outputs": [],
   "source": []
  },
  {
   "cell_type": "code",
   "execution_count": null,
   "metadata": {},
   "outputs": [],
   "source": [
    "# do some data cleaning, the importance of Shape in SK-learn\n",
    "X_train = train_data['TimeMin'].values.reshape(-1,1)\n",
    "y_train = train_data['PickupCount'].values"
   ]
  },
  {
   "cell_type": "code",
   "execution_count": null,
   "metadata": {},
   "outputs": [],
   "source": [
    "# fit the X_train and y_train wuth the LinearRegression in SK-learn\n",
    "\n"
   ]
  },
  {
   "cell_type": "code",
   "execution_count": null,
   "metadata": {},
   "outputs": [],
   "source": [
    "# make the prediction at each x value\n"
   ]
  },
  {
   "cell_type": "code",
   "execution_count": null,
   "metadata": {},
   "outputs": [],
   "source": [
    "# print out the R2_score (hint:r2_score(y_train, prediction), or model.score(X_train, y_train))\n"
   ]
  },
  {
   "cell_type": "code",
   "execution_count": null,
   "metadata": {},
   "outputs": [],
   "source": [
    "# pull the beta parameters out from model(hint:intercept: modle.intercept_  slope: model.coef_[0];)\n",
    "\n"
   ]
  },
  {
   "cell_type": "code",
   "execution_count": null,
   "metadata": {},
   "outputs": [],
   "source": [
    "# make the prediction at each x value\n",
    "    \n",
    "# plot the prediction line, and the test data\n",
    "\n",
    "\n",
    "# label your plots\n"
   ]
  },
  {
   "cell_type": "markdown",
   "metadata": {},
   "source": [
    "### Simple linear regression with statsmodels\n",
    "\n",
    "https://www.statsmodels.org/dev/regression.html"
   ]
  },
  {
   "cell_type": "code",
   "execution_count": null,
   "metadata": {},
   "outputs": [],
   "source": [
    "# Add a constant to the independent variable (for the intercept term)\n",
    "y=y_train\n",
    "X=X_train\n",
    "X_with_const = sm.add_constant(X)\n"
   ]
  },
  {
   "cell_type": "code",
   "execution_count": null,
   "metadata": {},
   "outputs": [],
   "source": [
    "# Fit the linear regression model\n",
    "#model = sm.OLS(y, X_with_const).fit()"
   ]
  },
  {
   "cell_type": "code",
   "execution_count": null,
   "metadata": {},
   "outputs": [],
   "source": [
    "# print out the model results and compare the R2 and the intercept and slope with the SK-learn\n",
    "\n"
   ]
  },
  {
   "cell_type": "code",
   "execution_count": null,
   "metadata": {},
   "outputs": [],
   "source": [
    "# plot the data and the prediction line\n",
    "\n",
    "\n",
    "# Generating points for the line first: hint:\n",
    "\n",
    "#X_plot = np.linspace(X.min(), X.max(), 100)\n",
    "#X_plot_with_const = sm.add_constant(X_plot)\n",
    "#y_pred = model.predict(X_plot_with_const)\n",
    "\n",
    "\n",
    "# Plotting\n"
   ]
  },
  {
   "cell_type": "markdown",
   "metadata": {},
   "source": [
    "### Simple linear Regression with CI\n"
   ]
  },
  {
   "cell_type": "code",
   "execution_count": null,
   "metadata": {},
   "outputs": [],
   "source": [
    "# hint :exlpre the model.summary()"
   ]
  },
  {
   "cell_type": "markdown",
   "metadata": {},
   "source": [
    "### model.conf_int() returns the 95% confidence interval \n",
    "https://www.statsmodels.org/dev/generated/statsmodels.regression.linear_model.PredictionResults.conf_int.html"
   ]
  },
  {
   "cell_type": "code",
   "execution_count": null,
   "metadata": {},
   "outputs": [],
   "source": []
  },
  {
   "cell_type": "code",
   "execution_count": null,
   "metadata": {},
   "outputs": [],
   "source": [
    "# to get the 95% confidence interval for the predictions.\n",
    "ci = model.get_prediction(X_plot_with_const).conf_int()\n",
    "ci"
   ]
  },
  {
   "cell_type": "code",
   "execution_count": null,
   "metadata": {},
   "outputs": [],
   "source": [
    "# Predictions for plotting\n",
    "y_pred = model.predict(X_plot_with_const)\n",
    "\n",
    "# Confidence interval\n",
    "ci = model.get_prediction(X_plot_with_const).conf_int()\n",
    "lower = ci[:, 0] # extracting the lower CI\n",
    "upper = ci[:, 1] # extracting the upper CI\n",
    "\n",
    "# Plotting\n",
    "plt.figure(figsize=(10, 6))\n",
    "plt.scatter(X, y, color='blue', alpha=0.2,label='Data points')\n",
    "plt.plot(X_plot, y_pred, color='black', label='Regression line')\n",
    "plt.fill_between(X_plot, lower, upper, color='gray', alpha=1, label='95% Confidence interval or the regression line')\n",
    "\n",
    "plt.xlabel('TimeMin')\n",
    "plt.ylabel('PickupCount')\n",
    "plt.title('Linear Regression with Confidence Interval')\n",
    "plt.legend()\n",
    "plt.show()"
   ]
  },
  {
   "cell_type": "markdown",
   "metadata": {},
   "source": [
    "### Alternatively, you can also use the  model.get_prediction(X_with_const).summary_frame()\n",
    "\n",
    "https://www.statsmodels.org/dev/generated/statsmodels.regression.linear_model.PredictionResults.summary_frame.html#statsmodels.regression.linear_model.PredictionResults.summary_frame"
   ]
  },
  {
   "cell_type": "code",
   "execution_count": null,
   "metadata": {},
   "outputs": [],
   "source": [
    "predictions = model.get_prediction(X_with_const).summary_frame()"
   ]
  },
  {
   "cell_type": "code",
   "execution_count": null,
   "metadata": {},
   "outputs": [],
   "source": [
    "predictions"
   ]
  },
  {
   "cell_type": "code",
   "execution_count": null,
   "metadata": {},
   "outputs": [],
   "source": []
  },
  {
   "cell_type": "code",
   "execution_count": null,
   "metadata": {},
   "outputs": [],
   "source": [
    "data_ci_upp = predictions['obs_ci_upper']\n",
    "data_ci_low = predictions['obs_ci_lower']\n",
    "predict_ci_upp = predictions['mean_ci_upper']\n",
    "predict_ci_low = predictions['mean_ci_lower']"
   ]
  },
  {
   "cell_type": "code",
   "execution_count": null,
   "metadata": {},
   "outputs": [],
   "source": [
    "# Plotting\n",
    "plt.figure(figsize=(10, 6))\n",
    "plt.scatter(X, y, color='blue', alpha=0.2, label='Data points')\n",
    "plt.plot(X_plot, y_pred, color='black', label='Regression line')\n",
    "\n",
    "# CI for the regression line\n",
    "plt.fill_between(X.flatten(), data_ci_low, data_ci_upp, color='green', alpha=0.2, label='95% CI for the data points')\n",
    "#  X.flatten() means Flatten X to a one-dimensional array\n",
    "\n",
    "# CI for the data points\n",
    "plt.fill_between(X.flatten(), predict_ci_low, predict_ci_upp, color='red', alpha=0.2, label='95% CI for the regression line')\n",
    "\n",
    "\n",
    "plt.xlabel('TimeMin')\n",
    "plt.ylabel('PickupCount')\n",
    "plt.title('Linear Regression with Confidence Interval')\n",
    "plt.legend()\n",
    "plt.show()"
   ]
  },
  {
   "cell_type": "code",
   "execution_count": null,
   "metadata": {},
   "outputs": [],
   "source": []
  },
  {
   "cell_type": "markdown",
   "metadata": {},
   "source": [
    "## Part 2: Polynomial Regression"
   ]
  },
  {
   "cell_type": "markdown",
   "metadata": {},
   "source": [
    "We can see that there's still a lot of variation in cab pickups that's not being caught by a linear fit. "
   ]
  },
  {
   "cell_type": "markdown",
   "metadata": {},
   "source": [
    "However, we can add columns to our design matrix for $TimeMin^2$ and $TimeMin^3$ and so on, allowing a wigglier polynomial that will better fit the data.\n",
    "\n",
    "We'll be using sklearn's `PolynomialFeatures` to take some of the tedium out of building the new design matrix. In fact, if all we want is a formula like $y \\approx \\beta_0 + \\beta_1 x + \\beta_2 x^2 + ...$ it will directly return the new design matrix."
   ]
  },
  {
   "cell_type": "code",
   "execution_count": null,
   "metadata": {},
   "outputs": [],
   "source": [
    "transformer_3 = PolynomialFeatures(3, include_bias=False)\n",
    "new_features = transformer_3.fit_transform(X_train)\n",
    "new_features"
   ]
  },
  {
   "cell_type": "code",
   "execution_count": null,
   "metadata": {},
   "outputs": [],
   "source": [
    "X_train"
   ]
  },
  {
   "cell_type": "markdown",
   "metadata": {},
   "source": [
    "A few notes on `PolynomialFeatures`:\n",
    "\n",
    "- The interface is a bit strange. `PolynomialFeatures` is a 'transformer' in sklearn. We'll be using several transformers that learn a transformation on the training data and then apply that transformation on future data. On these (more typical) transformers it makes sense to have a `.fit()` and a separate `.transform()`. With PolynomialFeatures, the `.fit()` is pretty trivial, and we often fit and transform in one command, as seen above.\n",
    "- You rarely want to `include_bias` (a column of all 1s), since sklearn will add it automatically and statsmodels can just `add_constant` right before you fit to the design matrix\n",
    "- If you want polynomial features for a several different variables, you should call `.fit_transform()` separately on each column and append all the results to the design matrix (unless you also want interaction terms between the newly-created features). See `np.concatenate` for joining arrays."
   ]
  },
  {
   "cell_type": "code",
   "execution_count": null,
   "metadata": {},
   "outputs": [],
   "source": [
    "fitted_cab_model3 = LinearRegression().fit(new_features, y_train)"
   ]
  },
  {
   "cell_type": "code",
   "execution_count": null,
   "metadata": {},
   "outputs": [],
   "source": [
    "prediction"
   ]
  },
  {
   "cell_type": "code",
   "execution_count": null,
   "metadata": {},
   "outputs": [],
   "source": [
    "# build the x values for the prediction line\n",
    "x_vals = np.linspace(X.min(), X.max(), 100).reshape(-1,1)\n",
    "\n",
    "design_mat = transformer_3.fit_transform(x_vals)\n",
    "prediction = fitted_cab_model3 .predict(design_mat)\n",
    "\n",
    "\n",
    "# plot the prediction line, and the test data\n",
    "plt.plot(x_vals,prediction, color='k', label=\"Prediction\")\n",
    "plt.scatter(X_train, y_train, label=\"Test Data\")\n",
    "\n",
    "# label your plots\n",
    "plt.ylabel(\"Number of Taxi Pickups\")\n",
    "plt.xlabel(\"Time of Day\")\n",
    "plt.legend()\n",
    "plt.show()"
   ]
  },
  {
   "cell_type": "markdown",
   "metadata": {},
   "source": [
    "<div class=\"exercise\"><b>Exercise</b></div>\n",
    "\n",
    "**Questions**:\n",
    "1. Calculate the polynomial model's $R^2$ performance. \n",
    "2. Does the polynomial model improve on the purely linear model?"
   ]
  },
  {
   "cell_type": "code",
   "execution_count": null,
   "metadata": {},
   "outputs": [],
   "source": [
    "# your code here\n"
   ]
  },
  {
   "cell_type": "code",
   "execution_count": null,
   "metadata": {},
   "outputs": [],
   "source": []
  }
 ],
 "metadata": {
  "kernelspec": {
   "display_name": "Python 3",
   "language": "python",
   "name": "python3"
  },
  "language_info": {
   "codemirror_mode": {
    "name": "ipython",
    "version": 3
   },
   "file_extension": ".py",
   "mimetype": "text/x-python",
   "name": "python",
   "nbconvert_exporter": "python",
   "pygments_lexer": "ipython3",
   "version": "3.8.8"
  }
 },
 "nbformat": 4,
 "nbformat_minor": 2
}
