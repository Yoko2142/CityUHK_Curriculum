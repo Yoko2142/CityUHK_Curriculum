{
 "cells": [
  {
   "cell_type": "markdown",
   "id": "3e33fb19",
   "metadata": {
    "slideshow": {
     "slide_type": "slide"
    }
   },
   "source": [
    "# Dealing with Missing Data\n",
    "\n",
    "## Learning Goals\n",
    "\n",
    "<li> Indentify missing data</li>\n",
    "\n",
    "<li> Imputation with KNN</li>\n",
    "\n",
    "<li> Imputation with mean</li>\n",
    "<li> Imputation with mean linear Regression </li>\n",
    "\n",
    "<li> Compare the R2 score with the different imputation method </li>\n"
   ]
  },
  {
   "cell_type": "code",
   "execution_count": 1,
   "id": "3c1b9343",
   "metadata": {
    "slideshow": {
     "slide_type": "slide"
    }
   },
   "outputs": [],
   "source": [
    "import pandas as pd\n",
    "import numpy as np\n",
    "import matplotlib.pyplot as plt\n",
    "import seaborn as sns\n",
    "from sklearn.linear_model import LinearRegression\n",
    "from sklearn.metrics import r2_score\n",
    "from sklearn.metrics import mean_squared_error"
   ]
  },
  {
   "cell_type": "markdown",
   "id": "85d7e269",
   "metadata": {
    "slideshow": {
     "slide_type": "slide"
    }
   },
   "source": [
    "### Part I. Indentify missing data"
   ]
  },
  {
   "cell_type": "code",
   "execution_count": 2,
   "id": "397bf6d1",
   "metadata": {
    "slideshow": {
     "slide_type": "slide"
    }
   },
   "outputs": [],
   "source": [
    "# generate data set with NaNS\n",
    "df = pd.DataFrame(np.random.randn(10,6))\n",
    "# np.random.randn(10, 6) would give you a 10x6 array filled with random numbers drawn \n",
    "# from a standard normal distribution.\n",
    "\n",
    "# Make a few areas have NaN values\n",
    "df.iloc[1:3,1] = np.nan\n",
    "df.iloc[5,3] = np.nan\n",
    "df.iloc[7:9,5] = np.nan\n",
    "\n",
    "# The first part before the comma e.g., `[1:3]` specifies the rows you want to access, \n",
    "# and the second part `[,1]` specifies the column"
   ]
  },
  {
   "cell_type": "code",
   "execution_count": 3,
   "id": "a8c2548b",
   "metadata": {
    "slideshow": {
     "slide_type": "fragment"
    }
   },
   "outputs": [
    {
     "data": {
      "text/html": [
       "<div>\n",
       "<style scoped>\n",
       "    .dataframe tbody tr th:only-of-type {\n",
       "        vertical-align: middle;\n",
       "    }\n",
       "\n",
       "    .dataframe tbody tr th {\n",
       "        vertical-align: top;\n",
       "    }\n",
       "\n",
       "    .dataframe thead th {\n",
       "        text-align: right;\n",
       "    }\n",
       "</style>\n",
       "<table border=\"1\" class=\"dataframe\">\n",
       "  <thead>\n",
       "    <tr style=\"text-align: right;\">\n",
       "      <th></th>\n",
       "      <th>0</th>\n",
       "      <th>1</th>\n",
       "      <th>2</th>\n",
       "      <th>3</th>\n",
       "      <th>4</th>\n",
       "      <th>5</th>\n",
       "    </tr>\n",
       "  </thead>\n",
       "  <tbody>\n",
       "    <tr>\n",
       "      <th>0</th>\n",
       "      <td>-0.285563</td>\n",
       "      <td>-1.602252</td>\n",
       "      <td>-0.581095</td>\n",
       "      <td>0.691803</td>\n",
       "      <td>-1.007097</td>\n",
       "      <td>-1.608630</td>\n",
       "    </tr>\n",
       "    <tr>\n",
       "      <th>1</th>\n",
       "      <td>0.212048</td>\n",
       "      <td>NaN</td>\n",
       "      <td>0.185754</td>\n",
       "      <td>2.057867</td>\n",
       "      <td>0.280433</td>\n",
       "      <td>-0.091076</td>\n",
       "    </tr>\n",
       "    <tr>\n",
       "      <th>2</th>\n",
       "      <td>-0.191592</td>\n",
       "      <td>NaN</td>\n",
       "      <td>-0.841253</td>\n",
       "      <td>1.063702</td>\n",
       "      <td>0.935709</td>\n",
       "      <td>0.261139</td>\n",
       "    </tr>\n",
       "    <tr>\n",
       "      <th>3</th>\n",
       "      <td>-1.065709</td>\n",
       "      <td>-0.735684</td>\n",
       "      <td>-0.046662</td>\n",
       "      <td>0.176965</td>\n",
       "      <td>-1.480728</td>\n",
       "      <td>-0.349543</td>\n",
       "    </tr>\n",
       "    <tr>\n",
       "      <th>4</th>\n",
       "      <td>-1.612588</td>\n",
       "      <td>-1.350634</td>\n",
       "      <td>0.030818</td>\n",
       "      <td>-0.435684</td>\n",
       "      <td>1.097564</td>\n",
       "      <td>1.054064</td>\n",
       "    </tr>\n",
       "    <tr>\n",
       "      <th>5</th>\n",
       "      <td>0.848805</td>\n",
       "      <td>-0.989954</td>\n",
       "      <td>1.103170</td>\n",
       "      <td>NaN</td>\n",
       "      <td>-0.132943</td>\n",
       "      <td>-1.791174</td>\n",
       "    </tr>\n",
       "    <tr>\n",
       "      <th>6</th>\n",
       "      <td>1.254429</td>\n",
       "      <td>0.475423</td>\n",
       "      <td>1.055423</td>\n",
       "      <td>0.255935</td>\n",
       "      <td>0.286532</td>\n",
       "      <td>0.310468</td>\n",
       "    </tr>\n",
       "    <tr>\n",
       "      <th>7</th>\n",
       "      <td>0.084800</td>\n",
       "      <td>-0.152235</td>\n",
       "      <td>-1.446050</td>\n",
       "      <td>1.944795</td>\n",
       "      <td>1.118846</td>\n",
       "      <td>NaN</td>\n",
       "    </tr>\n",
       "    <tr>\n",
       "      <th>8</th>\n",
       "      <td>-0.497305</td>\n",
       "      <td>0.440843</td>\n",
       "      <td>1.133434</td>\n",
       "      <td>-0.486629</td>\n",
       "      <td>-1.869150</td>\n",
       "      <td>NaN</td>\n",
       "    </tr>\n",
       "    <tr>\n",
       "      <th>9</th>\n",
       "      <td>1.577043</td>\n",
       "      <td>1.109471</td>\n",
       "      <td>0.331750</td>\n",
       "      <td>1.588869</td>\n",
       "      <td>0.535910</td>\n",
       "      <td>0.687349</td>\n",
       "    </tr>\n",
       "  </tbody>\n",
       "</table>\n",
       "</div>"
      ],
      "text/plain": [
       "          0         1         2         3         4         5\n",
       "0 -0.285563 -1.602252 -0.581095  0.691803 -1.007097 -1.608630\n",
       "1  0.212048       NaN  0.185754  2.057867  0.280433 -0.091076\n",
       "2 -0.191592       NaN -0.841253  1.063702  0.935709  0.261139\n",
       "3 -1.065709 -0.735684 -0.046662  0.176965 -1.480728 -0.349543\n",
       "4 -1.612588 -1.350634  0.030818 -0.435684  1.097564  1.054064\n",
       "5  0.848805 -0.989954  1.103170       NaN -0.132943 -1.791174\n",
       "6  1.254429  0.475423  1.055423  0.255935  0.286532  0.310468\n",
       "7  0.084800 -0.152235 -1.446050  1.944795  1.118846       NaN\n",
       "8 -0.497305  0.440843  1.133434 -0.486629 -1.869150       NaN\n",
       "9  1.577043  1.109471  0.331750  1.588869  0.535910  0.687349"
      ]
     },
     "execution_count": 3,
     "metadata": {},
     "output_type": "execute_result"
    }
   ],
   "source": [
    "df"
   ]
  },
  {
   "cell_type": "code",
   "execution_count": 54,
   "id": "d7485757",
   "metadata": {
    "slideshow": {
     "slide_type": "slide"
    }
   },
   "outputs": [
    {
     "data": {
      "text/html": [
       "<div>\n",
       "<style scoped>\n",
       "    .dataframe tbody tr th:only-of-type {\n",
       "        vertical-align: middle;\n",
       "    }\n",
       "\n",
       "    .dataframe tbody tr th {\n",
       "        vertical-align: top;\n",
       "    }\n",
       "\n",
       "    .dataframe thead th {\n",
       "        text-align: right;\n",
       "    }\n",
       "</style>\n",
       "<table border=\"1\" class=\"dataframe\">\n",
       "  <thead>\n",
       "    <tr style=\"text-align: right;\">\n",
       "      <th></th>\n",
       "      <th>0</th>\n",
       "      <th>1</th>\n",
       "      <th>2</th>\n",
       "      <th>3</th>\n",
       "      <th>4</th>\n",
       "      <th>5</th>\n",
       "    </tr>\n",
       "  </thead>\n",
       "  <tbody>\n",
       "    <tr>\n",
       "      <th>0</th>\n",
       "      <td>-0.285563</td>\n",
       "      <td>-1.602252</td>\n",
       "      <td>-0.581095</td>\n",
       "      <td>0.691803</td>\n",
       "      <td>-1.007097</td>\n",
       "      <td>-1.608630</td>\n",
       "    </tr>\n",
       "    <tr>\n",
       "      <th>1</th>\n",
       "      <td>0.212048</td>\n",
       "      <td>NaN</td>\n",
       "      <td>0.185754</td>\n",
       "      <td>2.057867</td>\n",
       "      <td>0.280433</td>\n",
       "      <td>-0.091076</td>\n",
       "    </tr>\n",
       "    <tr>\n",
       "      <th>2</th>\n",
       "      <td>-0.191592</td>\n",
       "      <td>NaN</td>\n",
       "      <td>-0.841253</td>\n",
       "      <td>1.063702</td>\n",
       "      <td>0.935709</td>\n",
       "      <td>0.261139</td>\n",
       "    </tr>\n",
       "    <tr>\n",
       "      <th>3</th>\n",
       "      <td>-1.065709</td>\n",
       "      <td>-0.735684</td>\n",
       "      <td>-0.046662</td>\n",
       "      <td>0.176965</td>\n",
       "      <td>-1.480728</td>\n",
       "      <td>-0.349543</td>\n",
       "    </tr>\n",
       "    <tr>\n",
       "      <th>4</th>\n",
       "      <td>-1.612588</td>\n",
       "      <td>-1.350634</td>\n",
       "      <td>0.030818</td>\n",
       "      <td>-0.435684</td>\n",
       "      <td>1.097564</td>\n",
       "      <td>1.054064</td>\n",
       "    </tr>\n",
       "    <tr>\n",
       "      <th>5</th>\n",
       "      <td>0.848805</td>\n",
       "      <td>-0.989954</td>\n",
       "      <td>1.103170</td>\n",
       "      <td>NaN</td>\n",
       "      <td>-0.132943</td>\n",
       "      <td>-1.791174</td>\n",
       "    </tr>\n",
       "    <tr>\n",
       "      <th>6</th>\n",
       "      <td>1.254429</td>\n",
       "      <td>0.475423</td>\n",
       "      <td>1.055423</td>\n",
       "      <td>0.255935</td>\n",
       "      <td>0.286532</td>\n",
       "      <td>0.310468</td>\n",
       "    </tr>\n",
       "    <tr>\n",
       "      <th>7</th>\n",
       "      <td>0.084800</td>\n",
       "      <td>-0.152235</td>\n",
       "      <td>-1.446050</td>\n",
       "      <td>1.944795</td>\n",
       "      <td>1.118846</td>\n",
       "      <td>NaN</td>\n",
       "    </tr>\n",
       "    <tr>\n",
       "      <th>8</th>\n",
       "      <td>-0.497305</td>\n",
       "      <td>0.440843</td>\n",
       "      <td>1.133434</td>\n",
       "      <td>-0.486629</td>\n",
       "      <td>-1.869150</td>\n",
       "      <td>NaN</td>\n",
       "    </tr>\n",
       "    <tr>\n",
       "      <th>9</th>\n",
       "      <td>1.577043</td>\n",
       "      <td>1.109471</td>\n",
       "      <td>0.331750</td>\n",
       "      <td>1.588869</td>\n",
       "      <td>0.535910</td>\n",
       "      <td>0.687349</td>\n",
       "    </tr>\n",
       "  </tbody>\n",
       "</table>\n",
       "</div>"
      ],
      "text/plain": [
       "          0         1         2         3         4         5\n",
       "0 -0.285563 -1.602252 -0.581095  0.691803 -1.007097 -1.608630\n",
       "1  0.212048       NaN  0.185754  2.057867  0.280433 -0.091076\n",
       "2 -0.191592       NaN -0.841253  1.063702  0.935709  0.261139\n",
       "3 -1.065709 -0.735684 -0.046662  0.176965 -1.480728 -0.349543\n",
       "4 -1.612588 -1.350634  0.030818 -0.435684  1.097564  1.054064\n",
       "5  0.848805 -0.989954  1.103170       NaN -0.132943 -1.791174\n",
       "6  1.254429  0.475423  1.055423  0.255935  0.286532  0.310468\n",
       "7  0.084800 -0.152235 -1.446050  1.944795  1.118846       NaN\n",
       "8 -0.497305  0.440843  1.133434 -0.486629 -1.869150       NaN\n",
       "9  1.577043  1.109471  0.331750  1.588869  0.535910  0.687349"
      ]
     },
     "execution_count": 54,
     "metadata": {},
     "output_type": "execute_result"
    }
   ],
   "source": [
    "df"
   ]
  },
  {
   "cell_type": "code",
   "execution_count": 4,
   "id": "a9a2cb5a",
   "metadata": {
    "slideshow": {
     "slide_type": "slide"
    }
   },
   "outputs": [
    {
     "data": {
      "text/html": [
       "<div>\n",
       "<style scoped>\n",
       "    .dataframe tbody tr th:only-of-type {\n",
       "        vertical-align: middle;\n",
       "    }\n",
       "\n",
       "    .dataframe tbody tr th {\n",
       "        vertical-align: top;\n",
       "    }\n",
       "\n",
       "    .dataframe thead th {\n",
       "        text-align: right;\n",
       "    }\n",
       "</style>\n",
       "<table border=\"1\" class=\"dataframe\">\n",
       "  <thead>\n",
       "    <tr style=\"text-align: right;\">\n",
       "      <th></th>\n",
       "      <th>0</th>\n",
       "      <th>1</th>\n",
       "      <th>2</th>\n",
       "      <th>3</th>\n",
       "      <th>4</th>\n",
       "      <th>5</th>\n",
       "    </tr>\n",
       "  </thead>\n",
       "  <tbody>\n",
       "    <tr>\n",
       "      <th>0</th>\n",
       "      <td>False</td>\n",
       "      <td>False</td>\n",
       "      <td>False</td>\n",
       "      <td>False</td>\n",
       "      <td>False</td>\n",
       "      <td>False</td>\n",
       "    </tr>\n",
       "    <tr>\n",
       "      <th>1</th>\n",
       "      <td>False</td>\n",
       "      <td>True</td>\n",
       "      <td>False</td>\n",
       "      <td>False</td>\n",
       "      <td>False</td>\n",
       "      <td>False</td>\n",
       "    </tr>\n",
       "    <tr>\n",
       "      <th>2</th>\n",
       "      <td>False</td>\n",
       "      <td>True</td>\n",
       "      <td>False</td>\n",
       "      <td>False</td>\n",
       "      <td>False</td>\n",
       "      <td>False</td>\n",
       "    </tr>\n",
       "    <tr>\n",
       "      <th>3</th>\n",
       "      <td>False</td>\n",
       "      <td>False</td>\n",
       "      <td>False</td>\n",
       "      <td>False</td>\n",
       "      <td>False</td>\n",
       "      <td>False</td>\n",
       "    </tr>\n",
       "    <tr>\n",
       "      <th>4</th>\n",
       "      <td>False</td>\n",
       "      <td>False</td>\n",
       "      <td>False</td>\n",
       "      <td>False</td>\n",
       "      <td>False</td>\n",
       "      <td>False</td>\n",
       "    </tr>\n",
       "    <tr>\n",
       "      <th>5</th>\n",
       "      <td>False</td>\n",
       "      <td>False</td>\n",
       "      <td>False</td>\n",
       "      <td>True</td>\n",
       "      <td>False</td>\n",
       "      <td>False</td>\n",
       "    </tr>\n",
       "    <tr>\n",
       "      <th>6</th>\n",
       "      <td>False</td>\n",
       "      <td>False</td>\n",
       "      <td>False</td>\n",
       "      <td>False</td>\n",
       "      <td>False</td>\n",
       "      <td>False</td>\n",
       "    </tr>\n",
       "    <tr>\n",
       "      <th>7</th>\n",
       "      <td>False</td>\n",
       "      <td>False</td>\n",
       "      <td>False</td>\n",
       "      <td>False</td>\n",
       "      <td>False</td>\n",
       "      <td>True</td>\n",
       "    </tr>\n",
       "    <tr>\n",
       "      <th>8</th>\n",
       "      <td>False</td>\n",
       "      <td>False</td>\n",
       "      <td>False</td>\n",
       "      <td>False</td>\n",
       "      <td>False</td>\n",
       "      <td>True</td>\n",
       "    </tr>\n",
       "    <tr>\n",
       "      <th>9</th>\n",
       "      <td>False</td>\n",
       "      <td>False</td>\n",
       "      <td>False</td>\n",
       "      <td>False</td>\n",
       "      <td>False</td>\n",
       "      <td>False</td>\n",
       "    </tr>\n",
       "  </tbody>\n",
       "</table>\n",
       "</div>"
      ],
      "text/plain": [
       "       0      1      2      3      4      5\n",
       "0  False  False  False  False  False  False\n",
       "1  False   True  False  False  False  False\n",
       "2  False   True  False  False  False  False\n",
       "3  False  False  False  False  False  False\n",
       "4  False  False  False  False  False  False\n",
       "5  False  False  False   True  False  False\n",
       "6  False  False  False  False  False  False\n",
       "7  False  False  False  False  False   True\n",
       "8  False  False  False  False  False   True\n",
       "9  False  False  False  False  False  False"
      ]
     },
     "execution_count": 4,
     "metadata": {},
     "output_type": "execute_result"
    }
   ],
   "source": [
    "# Indentify the NaNs with .isnull(), .isnull().any(), .isnull().sum()\n",
    "# you code here\n",
    "df.isnull()"
   ]
  },
  {
   "cell_type": "code",
   "execution_count": 52,
   "id": "0fad5e58",
   "metadata": {
    "slideshow": {
     "slide_type": "fragment"
    }
   },
   "outputs": [
    {
     "data": {
      "text/plain": [
       "0    False\n",
       "1     True\n",
       "2    False\n",
       "3     True\n",
       "4    False\n",
       "5     True\n",
       "dtype: bool"
      ]
     },
     "execution_count": 52,
     "metadata": {},
     "output_type": "execute_result"
    }
   ],
   "source": [
    "df.isnull().any()"
   ]
  },
  {
   "cell_type": "code",
   "execution_count": 6,
   "id": "7c26e297",
   "metadata": {
    "slideshow": {
     "slide_type": "fragment"
    }
   },
   "outputs": [
    {
     "data": {
      "text/plain": [
       "True"
      ]
     },
     "execution_count": 6,
     "metadata": {},
     "output_type": "execute_result"
    }
   ],
   "source": [
    "df.isnull().any().any()"
   ]
  },
  {
   "cell_type": "code",
   "execution_count": 7,
   "id": "2e82e8a3",
   "metadata": {
    "slideshow": {
     "slide_type": "fragment"
    }
   },
   "outputs": [
    {
     "data": {
      "text/plain": [
       "0    0\n",
       "1    2\n",
       "2    0\n",
       "3    1\n",
       "4    0\n",
       "5    2\n",
       "dtype: int64"
      ]
     },
     "execution_count": 7,
     "metadata": {},
     "output_type": "execute_result"
    }
   ],
   "source": [
    "df.isnull().sum()"
   ]
  },
  {
   "cell_type": "code",
   "execution_count": 8,
   "id": "647ff8e6",
   "metadata": {
    "slideshow": {
     "slide_type": "fragment"
    }
   },
   "outputs": [
    {
     "data": {
      "text/plain": [
       "5"
      ]
     },
     "execution_count": 8,
     "metadata": {},
     "output_type": "execute_result"
    }
   ],
   "source": [
    "df.isnull().sum().sum()"
   ]
  },
  {
   "cell_type": "code",
   "execution_count": 53,
   "id": "699131c8",
   "metadata": {
    "slideshow": {
     "slide_type": "slide"
    }
   },
   "outputs": [
    {
     "data": {
      "text/plain": [
       "True"
      ]
     },
     "execution_count": 53,
     "metadata": {},
     "output_type": "execute_result"
    }
   ],
   "source": [
    "# Indentify the sepcific column hasnans with df['column'].hasnans\n",
    "df[1].hasnans\n"
   ]
  },
  {
   "cell_type": "markdown",
   "id": "7b45ac54",
   "metadata": {
    "slideshow": {
     "slide_type": "slide"
    }
   },
   "source": [
    "## Part II: Imputation "
   ]
  },
  {
   "cell_type": "code",
   "execution_count": 10,
   "id": "5e16d494",
   "metadata": {
    "slideshow": {
     "slide_type": "fragment"
    }
   },
   "outputs": [
    {
     "data": {
      "text/html": [
       "<div>\n",
       "<style scoped>\n",
       "    .dataframe tbody tr th:only-of-type {\n",
       "        vertical-align: middle;\n",
       "    }\n",
       "\n",
       "    .dataframe tbody tr th {\n",
       "        vertical-align: top;\n",
       "    }\n",
       "\n",
       "    .dataframe thead th {\n",
       "        text-align: right;\n",
       "    }\n",
       "</style>\n",
       "<table border=\"1\" class=\"dataframe\">\n",
       "  <thead>\n",
       "    <tr style=\"text-align: right;\">\n",
       "      <th></th>\n",
       "      <th>Age</th>\n",
       "      <th>Salary</th>\n",
       "      <th>Experience</th>\n",
       "    </tr>\n",
       "  </thead>\n",
       "  <tbody>\n",
       "    <tr>\n",
       "      <th>0</th>\n",
       "      <td>25.0</td>\n",
       "      <td>50000.0</td>\n",
       "      <td>1.0</td>\n",
       "    </tr>\n",
       "    <tr>\n",
       "      <th>1</th>\n",
       "      <td>NaN</td>\n",
       "      <td>60000.0</td>\n",
       "      <td>3.0</td>\n",
       "    </tr>\n",
       "    <tr>\n",
       "      <th>2</th>\n",
       "      <td>30.0</td>\n",
       "      <td>NaN</td>\n",
       "      <td>5.0</td>\n",
       "    </tr>\n",
       "    <tr>\n",
       "      <th>3</th>\n",
       "      <td>35.0</td>\n",
       "      <td>65000.0</td>\n",
       "      <td>4.0</td>\n",
       "    </tr>\n",
       "    <tr>\n",
       "      <th>4</th>\n",
       "      <td>40.0</td>\n",
       "      <td>70000.0</td>\n",
       "      <td>5.0</td>\n",
       "    </tr>\n",
       "    <tr>\n",
       "      <th>5</th>\n",
       "      <td>NaN</td>\n",
       "      <td>80000.0</td>\n",
       "      <td>6.0</td>\n",
       "    </tr>\n",
       "    <tr>\n",
       "      <th>6</th>\n",
       "      <td>50.0</td>\n",
       "      <td>90000.0</td>\n",
       "      <td>NaN</td>\n",
       "    </tr>\n",
       "  </tbody>\n",
       "</table>\n",
       "</div>"
      ],
      "text/plain": [
       "    Age   Salary  Experience\n",
       "0  25.0  50000.0         1.0\n",
       "1   NaN  60000.0         3.0\n",
       "2  30.0      NaN         5.0\n",
       "3  35.0  65000.0         4.0\n",
       "4  40.0  70000.0         5.0\n",
       "5   NaN  80000.0         6.0\n",
       "6  50.0  90000.0         NaN"
      ]
     },
     "execution_count": 10,
     "metadata": {},
     "output_type": "execute_result"
    }
   ],
   "source": [
    "# Let's generate another sample data with nans\n",
    "data = {\n",
    "    'Age': [25, np.nan, 30, 35, 40, np.nan, 50],\n",
    "    'Salary': [50000, 60000, np.nan, 65000, 70000, 80000, 90000],\n",
    "    'Experience': [1,3 ,5, 4, 5, 6, np.nan]\n",
    "}\n",
    "data_df = pd.DataFrame(data)\n",
    "data_df"
   ]
  },
  {
   "cell_type": "code",
   "execution_count": 11,
   "id": "ebd80db1",
   "metadata": {
    "slideshow": {
     "slide_type": "slide"
    }
   },
   "outputs": [],
   "source": [
    "# generate the scatter plot of data_df['Salary'] vs data_df['Age']"
   ]
  },
  {
   "cell_type": "code",
   "execution_count": 12,
   "id": "6db9c66b",
   "metadata": {
    "slideshow": {
     "slide_type": "slide"
    }
   },
   "outputs": [
    {
     "name": "stdout",
     "output_type": "stream",
     "text": [
      "    Age   Salary  Experience\n",
      "0  25.0  50000.0         1.0\n",
      "1   NaN  60000.0         3.0\n",
      "2  30.0      NaN         5.0\n",
      "3  35.0  65000.0         4.0\n",
      "4  40.0  70000.0         5.0\n",
      "5   NaN  80000.0         6.0\n",
      "6  50.0  90000.0         NaN\n"
     ]
    },
    {
     "data": {
      "image/png": "[encoded data removed]",
      "text/plain": [
       "<Figure size 432x288 with 1 Axes>"
      ]
     },
     "metadata": {
      "needs_background": "light"
     },
     "output_type": "display_data"
    }
   ],
   "source": [
    "# generate the scatter plot of data_df['Salary'] vs data_df['Age']\n",
    "print(data_df)\n",
    "plt.scatter(data_df['Age'],data_df['Salary'])\n",
    "plt.show()"
   ]
  },
  {
   "cell_type": "code",
   "execution_count": 13,
   "id": "3ae80469",
   "metadata": {
    "slideshow": {
     "slide_type": "slide"
    }
   },
   "outputs": [],
   "source": [
    "# generate the scatter plot of data_df['Salary'] vs data_df['Experience']\n"
   ]
  },
  {
   "cell_type": "code",
   "execution_count": 14,
   "id": "c52e26d2",
   "metadata": {
    "slideshow": {
     "slide_type": "slide"
    }
   },
   "outputs": [
    {
     "name": "stdout",
     "output_type": "stream",
     "text": [
      "    Age   Salary  Experience\n",
      "0  25.0  50000.0         1.0\n",
      "1   NaN  60000.0         3.0\n",
      "2  30.0      NaN         5.0\n",
      "3  35.0  65000.0         4.0\n",
      "4  40.0  70000.0         5.0\n",
      "5   NaN  80000.0         6.0\n",
      "6  50.0  90000.0         NaN\n"
     ]
    },
    {
     "data": {
      "image/png": "[encoded data removed]",
      "text/plain": [
       "<Figure size 432x288 with 1 Axes>"
      ]
     },
     "metadata": {
      "needs_background": "light"
     },
     "output_type": "display_data"
    }
   ],
   "source": [
    "# generate the scatter plot of data_df['Salary'] vs data_df['Experience']\n",
    "print(data_df)\n",
    "\n",
    "plt.scatter(data_df['Experience'],data_df['Salary'])\n",
    "plt.show()"
   ]
  },
  {
   "cell_type": "markdown",
   "id": "a86a9477",
   "metadata": {
    "slideshow": {
     "slide_type": "slide"
    }
   },
   "source": [
    "### Imputation with Mean\n",
    "\n",
    "sklearn.impute.SimpleImputer(strategy='mean')\n",
    "\n",
    "\n",
    ">imputer = SimpleImputer(strategy='mean')\n",
    "\n",
    ">imputed_data = imputer.fit_transform(data_with_nans)\n",
    "\n",
    "\n",
    "\n",
    "Replace missing values using a descriptive statistic (e.g. mean, median, or most frequent) along each column, or using a constant value.\n",
    "\n",
    "https://scikit-learn.org/stable/modules/generated/sklearn.impute.SimpleImputer.html\n",
    "\n",
    "\n"
   ]
  },
  {
   "cell_type": "code",
   "execution_count": 15,
   "id": "dd1dd6fc",
   "metadata": {
    "slideshow": {
     "slide_type": "fragment"
    }
   },
   "outputs": [
    {
     "data": {
      "text/html": [
       "<div>\n",
       "<style scoped>\n",
       "    .dataframe tbody tr th:only-of-type {\n",
       "        vertical-align: middle;\n",
       "    }\n",
       "\n",
       "    .dataframe tbody tr th {\n",
       "        vertical-align: top;\n",
       "    }\n",
       "\n",
       "    .dataframe thead th {\n",
       "        text-align: right;\n",
       "    }\n",
       "</style>\n",
       "<table border=\"1\" class=\"dataframe\">\n",
       "  <thead>\n",
       "    <tr style=\"text-align: right;\">\n",
       "      <th></th>\n",
       "      <th>Age</th>\n",
       "      <th>Salary</th>\n",
       "      <th>Experience</th>\n",
       "    </tr>\n",
       "  </thead>\n",
       "  <tbody>\n",
       "    <tr>\n",
       "      <th>0</th>\n",
       "      <td>25.0</td>\n",
       "      <td>50000.000000</td>\n",
       "      <td>1.0</td>\n",
       "    </tr>\n",
       "    <tr>\n",
       "      <th>1</th>\n",
       "      <td>36.0</td>\n",
       "      <td>60000.000000</td>\n",
       "      <td>3.0</td>\n",
       "    </tr>\n",
       "    <tr>\n",
       "      <th>2</th>\n",
       "      <td>30.0</td>\n",
       "      <td>69166.666667</td>\n",
       "      <td>5.0</td>\n",
       "    </tr>\n",
       "    <tr>\n",
       "      <th>3</th>\n",
       "      <td>35.0</td>\n",
       "      <td>65000.000000</td>\n",
       "      <td>4.0</td>\n",
       "    </tr>\n",
       "    <tr>\n",
       "      <th>4</th>\n",
       "      <td>40.0</td>\n",
       "      <td>70000.000000</td>\n",
       "      <td>5.0</td>\n",
       "    </tr>\n",
       "    <tr>\n",
       "      <th>5</th>\n",
       "      <td>36.0</td>\n",
       "      <td>80000.000000</td>\n",
       "      <td>6.0</td>\n",
       "    </tr>\n",
       "    <tr>\n",
       "      <th>6</th>\n",
       "      <td>50.0</td>\n",
       "      <td>90000.000000</td>\n",
       "      <td>4.0</td>\n",
       "    </tr>\n",
       "  </tbody>\n",
       "</table>\n",
       "</div>"
      ],
      "text/plain": [
       "    Age        Salary  Experience\n",
       "0  25.0  50000.000000         1.0\n",
       "1  36.0  60000.000000         3.0\n",
       "2  30.0  69166.666667         5.0\n",
       "3  35.0  65000.000000         4.0\n",
       "4  40.0  70000.000000         5.0\n",
       "5  36.0  80000.000000         6.0\n",
       "6  50.0  90000.000000         4.0"
      ]
     },
     "execution_count": 15,
     "metadata": {},
     "output_type": "execute_result"
    }
   ],
   "source": [
    "from sklearn.impute import SimpleImputer\n",
    "\n",
    "# Initialize the SimpleImputer with 'mean' strategy\n",
    "\n",
    "imputer = SimpleImputer(strategy='mean')\n",
    "\n",
    "# Fit the imputer to the data and transform it to fill in missing values\n",
    "imputed_data = imputer.fit_transform(data_df)\n",
    "\n",
    "# Convert the array back to a DataFrame\n",
    "imputed_data_df = pd.DataFrame(imputed_data, columns=data_df.columns)\n",
    "\n",
    "imputed_data_df"
   ]
  },
  {
   "cell_type": "code",
   "execution_count": 16,
   "id": "f60fa604",
   "metadata": {
    "slideshow": {
     "slide_type": "fragment"
    }
   },
   "outputs": [
    {
     "data": {
      "text/html": [
       "<div>\n",
       "<style scoped>\n",
       "    .dataframe tbody tr th:only-of-type {\n",
       "        vertical-align: middle;\n",
       "    }\n",
       "\n",
       "    .dataframe tbody tr th {\n",
       "        vertical-align: top;\n",
       "    }\n",
       "\n",
       "    .dataframe thead th {\n",
       "        text-align: right;\n",
       "    }\n",
       "</style>\n",
       "<table border=\"1\" class=\"dataframe\">\n",
       "  <thead>\n",
       "    <tr style=\"text-align: right;\">\n",
       "      <th></th>\n",
       "      <th>Age</th>\n",
       "      <th>Salary</th>\n",
       "      <th>Experience</th>\n",
       "    </tr>\n",
       "  </thead>\n",
       "  <tbody>\n",
       "    <tr>\n",
       "      <th>0</th>\n",
       "      <td>25.0</td>\n",
       "      <td>50000.0</td>\n",
       "      <td>1.0</td>\n",
       "    </tr>\n",
       "    <tr>\n",
       "      <th>1</th>\n",
       "      <td>NaN</td>\n",
       "      <td>60000.0</td>\n",
       "      <td>3.0</td>\n",
       "    </tr>\n",
       "    <tr>\n",
       "      <th>2</th>\n",
       "      <td>30.0</td>\n",
       "      <td>NaN</td>\n",
       "      <td>5.0</td>\n",
       "    </tr>\n",
       "    <tr>\n",
       "      <th>3</th>\n",
       "      <td>35.0</td>\n",
       "      <td>65000.0</td>\n",
       "      <td>4.0</td>\n",
       "    </tr>\n",
       "    <tr>\n",
       "      <th>4</th>\n",
       "      <td>40.0</td>\n",
       "      <td>70000.0</td>\n",
       "      <td>5.0</td>\n",
       "    </tr>\n",
       "    <tr>\n",
       "      <th>5</th>\n",
       "      <td>NaN</td>\n",
       "      <td>80000.0</td>\n",
       "      <td>6.0</td>\n",
       "    </tr>\n",
       "    <tr>\n",
       "      <th>6</th>\n",
       "      <td>50.0</td>\n",
       "      <td>90000.0</td>\n",
       "      <td>NaN</td>\n",
       "    </tr>\n",
       "  </tbody>\n",
       "</table>\n",
       "</div>"
      ],
      "text/plain": [
       "    Age   Salary  Experience\n",
       "0  25.0  50000.0         1.0\n",
       "1   NaN  60000.0         3.0\n",
       "2  30.0      NaN         5.0\n",
       "3  35.0  65000.0         4.0\n",
       "4  40.0  70000.0         5.0\n",
       "5   NaN  80000.0         6.0\n",
       "6  50.0  90000.0         NaN"
      ]
     },
     "execution_count": 16,
     "metadata": {},
     "output_type": "execute_result"
    }
   ],
   "source": [
    "data_df"
   ]
  },
  {
   "cell_type": "code",
   "execution_count": 17,
   "id": "29e1c211",
   "metadata": {
    "slideshow": {
     "slide_type": "fragment"
    }
   },
   "outputs": [],
   "source": [
    "# Initialize the SimpleImputer with 'median' strategy"
   ]
  },
  {
   "cell_type": "markdown",
   "id": "4f401211",
   "metadata": {
    "slideshow": {
     "slide_type": "slide"
    }
   },
   "source": [
    "### Imputation with KNN\n",
    "\n",
    "\n",
    "https://scikit-learn.org/stable/modules/generated/sklearn.impute.KNNImputer.html\n",
    "\n",
    "KNNimputer is a scikit-learn class used to fill out or predict the missing values in a dataset.\n",
    "In this approach, we specify a distance from the missing values which is also known as the K parameter. \n",
    "The missing value will be predicted in reference to the mean of the neighbours. It is implemented by the KNNimputer() method which contains the following arguments:\n",
    "\n",
    ">imputer = KNNImputer(n_neighbors=2)\n",
    "\n",
    "\n",
    ">imputer.fit_transform(X)\n"
   ]
  },
  {
   "cell_type": "code",
   "execution_count": 18,
   "id": "de33f84f",
   "metadata": {
    "slideshow": {
     "slide_type": "slide"
    }
   },
   "outputs": [],
   "source": [
    "from sklearn.impute import KNNImputer\n",
    "\n",
    "# Create imputer object with n_neighbors set to 2\n",
    "knn_imputer = KNNImputer(n_neighbors=2)"
   ]
  },
  {
   "cell_type": "code",
   "execution_count": 19,
   "id": "d2af4b80",
   "metadata": {
    "slideshow": {
     "slide_type": "fragment"
    }
   },
   "outputs": [],
   "source": [
    "# # Fit on the data and transform it and put in into the dataframe\n",
    "\n",
    "df_filled_knn = pd.DataFrame(knn_imputer.fit_transform(data_df), columns=data_df.columns)\n"
   ]
  },
  {
   "cell_type": "code",
   "execution_count": 20,
   "id": "ee10b2ef",
   "metadata": {
    "slideshow": {
     "slide_type": "fragment"
    }
   },
   "outputs": [
    {
     "name": "stdout",
     "output_type": "stream",
     "text": [
      "Data after KNN Imputation:\n"
     ]
    },
    {
     "data": {
      "text/html": [
       "<div>\n",
       "<style scoped>\n",
       "    .dataframe tbody tr th:only-of-type {\n",
       "        vertical-align: middle;\n",
       "    }\n",
       "\n",
       "    .dataframe tbody tr th {\n",
       "        vertical-align: top;\n",
       "    }\n",
       "\n",
       "    .dataframe thead th {\n",
       "        text-align: right;\n",
       "    }\n",
       "</style>\n",
       "<table border=\"1\" class=\"dataframe\">\n",
       "  <thead>\n",
       "    <tr style=\"text-align: right;\">\n",
       "      <th></th>\n",
       "      <th>Age</th>\n",
       "      <th>Salary</th>\n",
       "      <th>Experience</th>\n",
       "    </tr>\n",
       "  </thead>\n",
       "  <tbody>\n",
       "    <tr>\n",
       "      <th>0</th>\n",
       "      <td>25.0</td>\n",
       "      <td>50000.0</td>\n",
       "      <td>1.0</td>\n",
       "    </tr>\n",
       "    <tr>\n",
       "      <th>1</th>\n",
       "      <td>32.5</td>\n",
       "      <td>60000.0</td>\n",
       "      <td>3.0</td>\n",
       "    </tr>\n",
       "    <tr>\n",
       "      <th>2</th>\n",
       "      <td>30.0</td>\n",
       "      <td>70000.0</td>\n",
       "      <td>5.0</td>\n",
       "    </tr>\n",
       "    <tr>\n",
       "      <th>3</th>\n",
       "      <td>35.0</td>\n",
       "      <td>65000.0</td>\n",
       "      <td>4.0</td>\n",
       "    </tr>\n",
       "    <tr>\n",
       "      <th>4</th>\n",
       "      <td>40.0</td>\n",
       "      <td>70000.0</td>\n",
       "      <td>5.0</td>\n",
       "    </tr>\n",
       "    <tr>\n",
       "      <th>5</th>\n",
       "      <td>35.0</td>\n",
       "      <td>80000.0</td>\n",
       "      <td>6.0</td>\n",
       "    </tr>\n",
       "    <tr>\n",
       "      <th>6</th>\n",
       "      <td>50.0</td>\n",
       "      <td>90000.0</td>\n",
       "      <td>5.5</td>\n",
       "    </tr>\n",
       "  </tbody>\n",
       "</table>\n",
       "</div>"
      ],
      "text/plain": [
       "    Age   Salary  Experience\n",
       "0  25.0  50000.0         1.0\n",
       "1  32.5  60000.0         3.0\n",
       "2  30.0  70000.0         5.0\n",
       "3  35.0  65000.0         4.0\n",
       "4  40.0  70000.0         5.0\n",
       "5  35.0  80000.0         6.0\n",
       "6  50.0  90000.0         5.5"
      ]
     },
     "execution_count": 20,
     "metadata": {},
     "output_type": "execute_result"
    }
   ],
   "source": [
    "print(\"Data after KNN Imputation:\")\n",
    "df_filled_knn"
   ]
  },
  {
   "cell_type": "code",
   "execution_count": 21,
   "id": "cd2a3006",
   "metadata": {
    "slideshow": {
     "slide_type": "fragment"
    }
   },
   "outputs": [
    {
     "data": {
      "text/html": [
       "<div>\n",
       "<style scoped>\n",
       "    .dataframe tbody tr th:only-of-type {\n",
       "        vertical-align: middle;\n",
       "    }\n",
       "\n",
       "    .dataframe tbody tr th {\n",
       "        vertical-align: top;\n",
       "    }\n",
       "\n",
       "    .dataframe thead th {\n",
       "        text-align: right;\n",
       "    }\n",
       "</style>\n",
       "<table border=\"1\" class=\"dataframe\">\n",
       "  <thead>\n",
       "    <tr style=\"text-align: right;\">\n",
       "      <th></th>\n",
       "      <th>Age</th>\n",
       "      <th>Salary</th>\n",
       "      <th>Experience</th>\n",
       "    </tr>\n",
       "  </thead>\n",
       "  <tbody>\n",
       "    <tr>\n",
       "      <th>0</th>\n",
       "      <td>25.0</td>\n",
       "      <td>50000.0</td>\n",
       "      <td>1.0</td>\n",
       "    </tr>\n",
       "    <tr>\n",
       "      <th>1</th>\n",
       "      <td>NaN</td>\n",
       "      <td>60000.0</td>\n",
       "      <td>3.0</td>\n",
       "    </tr>\n",
       "    <tr>\n",
       "      <th>2</th>\n",
       "      <td>30.0</td>\n",
       "      <td>NaN</td>\n",
       "      <td>5.0</td>\n",
       "    </tr>\n",
       "    <tr>\n",
       "      <th>3</th>\n",
       "      <td>35.0</td>\n",
       "      <td>65000.0</td>\n",
       "      <td>4.0</td>\n",
       "    </tr>\n",
       "    <tr>\n",
       "      <th>4</th>\n",
       "      <td>40.0</td>\n",
       "      <td>70000.0</td>\n",
       "      <td>5.0</td>\n",
       "    </tr>\n",
       "    <tr>\n",
       "      <th>5</th>\n",
       "      <td>NaN</td>\n",
       "      <td>80000.0</td>\n",
       "      <td>6.0</td>\n",
       "    </tr>\n",
       "    <tr>\n",
       "      <th>6</th>\n",
       "      <td>50.0</td>\n",
       "      <td>90000.0</td>\n",
       "      <td>NaN</td>\n",
       "    </tr>\n",
       "  </tbody>\n",
       "</table>\n",
       "</div>"
      ],
      "text/plain": [
       "    Age   Salary  Experience\n",
       "0  25.0  50000.0         1.0\n",
       "1   NaN  60000.0         3.0\n",
       "2  30.0      NaN         5.0\n",
       "3  35.0  65000.0         4.0\n",
       "4  40.0  70000.0         5.0\n",
       "5   NaN  80000.0         6.0\n",
       "6  50.0  90000.0         NaN"
      ]
     },
     "execution_count": 21,
     "metadata": {},
     "output_type": "execute_result"
    }
   ],
   "source": [
    "data_df"
   ]
  },
  {
   "cell_type": "code",
   "execution_count": null,
   "id": "cbb84f9b",
   "metadata": {},
   "outputs": [],
   "source": []
  },
  {
   "cell_type": "markdown",
   "id": "26ed1396",
   "metadata": {
    "slideshow": {
     "slide_type": "slide"
    }
   },
   "source": [
    "### Imputation with LinearRegression\n"
   ]
  },
  {
   "cell_type": "code",
   "execution_count": 22,
   "id": "c1432b75",
   "metadata": {
    "slideshow": {
     "slide_type": "fragment"
    }
   },
   "outputs": [],
   "source": [
    "# Make a copy of the original DataFrame to avoid modifying it directly\n",
    "imputed_df = data_df.copy()"
   ]
  },
  {
   "cell_type": "code",
   "execution_count": 23,
   "id": "e278f3d0",
   "metadata": {
    "slideshow": {
     "slide_type": "fragment"
    }
   },
   "outputs": [
    {
     "name": "stdout",
     "output_type": "stream",
     "text": [
      "This is the complete_data\n",
      "    Age   Salary  Experience\n",
      "0  25.0  50000.0         1.0\n",
      "2  30.0      NaN         5.0\n",
      "3  35.0  65000.0         4.0\n",
      "4  40.0  70000.0         5.0\n",
      "6  50.0  90000.0         NaN\n",
      "----------------\n",
      "This is the complete_data\n",
      "   Age   Salary  Experience\n",
      "1  NaN  60000.0         3.0\n",
      "5  NaN  80000.0         6.0\n"
     ]
    }
   ],
   "source": [
    "# Step 1: Select the target column with missing values\n",
    "target_column = 'Age'\n",
    "\n",
    "# Prepare the data: Separate rows with and without missing target values\n",
    "complete_data = imputed_df.dropna(subset=[target_column])\n",
    "\n",
    "print ('This is the complete_data')\n",
    "print (complete_data)\n",
    "print ('----------------')\n",
    "missing_data = imputed_df[imputed_df[target_column].isna()]\n",
    "print ('This is the complete_data')\n",
    "print (missing_data)"
   ]
  },
  {
   "cell_type": "code",
   "execution_count": 24,
   "id": "b588abed",
   "metadata": {
    "slideshow": {
     "slide_type": "fragment"
    }
   },
   "outputs": [],
   "source": [
    "# Step 2: Prepare the training data (excluding rows with missing target values)\n",
    "X_train = complete_data.drop(columns=[target_column])\n",
    "y_train = complete_data[target_column]"
   ]
  },
  {
   "cell_type": "code",
   "execution_count": 25,
   "id": "bead1541",
   "metadata": {
    "slideshow": {
     "slide_type": "fragment"
    }
   },
   "outputs": [
    {
     "data": {
      "text/html": [
       "<div>\n",
       "<style scoped>\n",
       "    .dataframe tbody tr th:only-of-type {\n",
       "        vertical-align: middle;\n",
       "    }\n",
       "\n",
       "    .dataframe tbody tr th {\n",
       "        vertical-align: top;\n",
       "    }\n",
       "\n",
       "    .dataframe thead th {\n",
       "        text-align: right;\n",
       "    }\n",
       "</style>\n",
       "<table border=\"1\" class=\"dataframe\">\n",
       "  <thead>\n",
       "    <tr style=\"text-align: right;\">\n",
       "      <th></th>\n",
       "      <th>Salary</th>\n",
       "      <th>Experience</th>\n",
       "    </tr>\n",
       "  </thead>\n",
       "  <tbody>\n",
       "    <tr>\n",
       "      <th>0</th>\n",
       "      <td>50000.0</td>\n",
       "      <td>1.0</td>\n",
       "    </tr>\n",
       "    <tr>\n",
       "      <th>2</th>\n",
       "      <td>NaN</td>\n",
       "      <td>5.0</td>\n",
       "    </tr>\n",
       "    <tr>\n",
       "      <th>3</th>\n",
       "      <td>65000.0</td>\n",
       "      <td>4.0</td>\n",
       "    </tr>\n",
       "    <tr>\n",
       "      <th>4</th>\n",
       "      <td>70000.0</td>\n",
       "      <td>5.0</td>\n",
       "    </tr>\n",
       "    <tr>\n",
       "      <th>6</th>\n",
       "      <td>90000.0</td>\n",
       "      <td>NaN</td>\n",
       "    </tr>\n",
       "  </tbody>\n",
       "</table>\n",
       "</div>"
      ],
      "text/plain": [
       "    Salary  Experience\n",
       "0  50000.0         1.0\n",
       "2      NaN         5.0\n",
       "3  65000.0         4.0\n",
       "4  70000.0         5.0\n",
       "6  90000.0         NaN"
      ]
     },
     "execution_count": 25,
     "metadata": {},
     "output_type": "execute_result"
    }
   ],
   "source": [
    "X_train"
   ]
  },
  {
   "cell_type": "code",
   "execution_count": 26,
   "id": "a90fedbe",
   "metadata": {
    "slideshow": {
     "slide_type": "slide"
    }
   },
   "outputs": [
    {
     "data": {
      "text/plain": [
       "LinearRegression()"
      ]
     },
     "execution_count": 26,
     "metadata": {},
     "output_type": "execute_result"
    }
   ],
   "source": [
    "# Handle missing values in predictor columns for training (simple imputation)\n",
    "for column in X_train.columns:\n",
    "    if X_train[column].isna().any():\n",
    "        X_train[column].fillna(X_train[column].mean(), inplace=True)\n",
    "\n",
    "# Step 3: Train the linear regression model\n",
    "model = LinearRegression()\n",
    "model.fit(X_train, y_train)"
   ]
  },
  {
   "cell_type": "code",
   "execution_count": 27,
   "id": "d5dda47b",
   "metadata": {
    "slideshow": {
     "slide_type": "fragment"
    }
   },
   "outputs": [
    {
     "data": {
      "text/plain": [
       "array([ 6.70319253e-04, -6.96026607e-01])"
      ]
     },
     "execution_count": 27,
     "metadata": {},
     "output_type": "execute_result"
    }
   ],
   "source": [
    "model.coef_"
   ]
  },
  {
   "cell_type": "code",
   "execution_count": 28,
   "id": "b048ed9a",
   "metadata": {
    "slideshow": {
     "slide_type": "slide"
    }
   },
   "outputs": [],
   "source": [
    "# Prepare the data for prediction (exclude target column and handle missing predictors)\n",
    "X_missing = missing_data.drop(columns=[target_column])\n",
    "for column in X_missing.columns:\n",
    "    if X_missing[column].isna().any():\n",
    "        X_missing[column].fillna(X_missing[column].mean(), inplace=True)"
   ]
  },
  {
   "cell_type": "code",
   "execution_count": 29,
   "id": "d09d37dd",
   "metadata": {
    "slideshow": {
     "slide_type": "fragment"
    }
   },
   "outputs": [
    {
     "data": {
      "text/html": [
       "<div>\n",
       "<style scoped>\n",
       "    .dataframe tbody tr th:only-of-type {\n",
       "        vertical-align: middle;\n",
       "    }\n",
       "\n",
       "    .dataframe tbody tr th {\n",
       "        vertical-align: top;\n",
       "    }\n",
       "\n",
       "    .dataframe thead th {\n",
       "        text-align: right;\n",
       "    }\n",
       "</style>\n",
       "<table border=\"1\" class=\"dataframe\">\n",
       "  <thead>\n",
       "    <tr style=\"text-align: right;\">\n",
       "      <th></th>\n",
       "      <th>Salary</th>\n",
       "      <th>Experience</th>\n",
       "    </tr>\n",
       "  </thead>\n",
       "  <tbody>\n",
       "    <tr>\n",
       "      <th>1</th>\n",
       "      <td>60000.0</td>\n",
       "      <td>3.0</td>\n",
       "    </tr>\n",
       "    <tr>\n",
       "      <th>5</th>\n",
       "      <td>80000.0</td>\n",
       "      <td>6.0</td>\n",
       "    </tr>\n",
       "  </tbody>\n",
       "</table>\n",
       "</div>"
      ],
      "text/plain": [
       "    Salary  Experience\n",
       "1  60000.0         3.0\n",
       "5  80000.0         6.0"
      ]
     },
     "execution_count": 29,
     "metadata": {},
     "output_type": "execute_result"
    }
   ],
   "source": [
    "X_missing"
   ]
  },
  {
   "cell_type": "code",
   "execution_count": 30,
   "id": "7d4c167e",
   "metadata": {
    "slideshow": {
     "slide_type": "fragment"
    }
   },
   "outputs": [],
   "source": [
    "# Step 4: Predict the missing values in the target column\n",
    "predicted_values = model.predict(X_missing)\n"
   ]
  },
  {
   "cell_type": "code",
   "execution_count": 31,
   "id": "176a3932",
   "metadata": {
    "slideshow": {
     "slide_type": "fragment"
    }
   },
   "outputs": [
    {
     "data": {
      "text/html": [
       "<div>\n",
       "<style scoped>\n",
       "    .dataframe tbody tr th:only-of-type {\n",
       "        vertical-align: middle;\n",
       "    }\n",
       "\n",
       "    .dataframe tbody tr th {\n",
       "        vertical-align: top;\n",
       "    }\n",
       "\n",
       "    .dataframe thead th {\n",
       "        text-align: right;\n",
       "    }\n",
       "</style>\n",
       "<table border=\"1\" class=\"dataframe\">\n",
       "  <thead>\n",
       "    <tr style=\"text-align: right;\">\n",
       "      <th></th>\n",
       "      <th>Age</th>\n",
       "      <th>Salary</th>\n",
       "      <th>Experience</th>\n",
       "    </tr>\n",
       "  </thead>\n",
       "  <tbody>\n",
       "    <tr>\n",
       "      <th>0</th>\n",
       "      <td>25.000000</td>\n",
       "      <td>50000.0</td>\n",
       "      <td>1.0</td>\n",
       "    </tr>\n",
       "    <tr>\n",
       "      <th>1</th>\n",
       "      <td>30.656726</td>\n",
       "      <td>60000.0</td>\n",
       "      <td>3.0</td>\n",
       "    </tr>\n",
       "    <tr>\n",
       "      <th>2</th>\n",
       "      <td>30.000000</td>\n",
       "      <td>NaN</td>\n",
       "      <td>5.0</td>\n",
       "    </tr>\n",
       "    <tr>\n",
       "      <th>3</th>\n",
       "      <td>35.000000</td>\n",
       "      <td>65000.0</td>\n",
       "      <td>4.0</td>\n",
       "    </tr>\n",
       "    <tr>\n",
       "      <th>4</th>\n",
       "      <td>40.000000</td>\n",
       "      <td>70000.0</td>\n",
       "      <td>5.0</td>\n",
       "    </tr>\n",
       "    <tr>\n",
       "      <th>5</th>\n",
       "      <td>41.975032</td>\n",
       "      <td>80000.0</td>\n",
       "      <td>6.0</td>\n",
       "    </tr>\n",
       "    <tr>\n",
       "      <th>6</th>\n",
       "      <td>50.000000</td>\n",
       "      <td>90000.0</td>\n",
       "      <td>NaN</td>\n",
       "    </tr>\n",
       "  </tbody>\n",
       "</table>\n",
       "</div>"
      ],
      "text/plain": [
       "         Age   Salary  Experience\n",
       "0  25.000000  50000.0         1.0\n",
       "1  30.656726  60000.0         3.0\n",
       "2  30.000000      NaN         5.0\n",
       "3  35.000000  65000.0         4.0\n",
       "4  40.000000  70000.0         5.0\n",
       "5  41.975032  80000.0         6.0\n",
       "6  50.000000  90000.0         NaN"
      ]
     },
     "execution_count": 31,
     "metadata": {},
     "output_type": "execute_result"
    }
   ],
   "source": [
    "# Step 5: Fill in the missing values in the original dataset\n",
    "imputed_df.loc[imputed_df[target_column].isna(), target_column] = predicted_values\n",
    "imputed_df"
   ]
  },
  {
   "cell_type": "code",
   "execution_count": 32,
   "id": "50d8f209",
   "metadata": {
    "slideshow": {
     "slide_type": "fragment"
    }
   },
   "outputs": [
    {
     "data": {
      "text/html": [
       "<div>\n",
       "<style scoped>\n",
       "    .dataframe tbody tr th:only-of-type {\n",
       "        vertical-align: middle;\n",
       "    }\n",
       "\n",
       "    .dataframe tbody tr th {\n",
       "        vertical-align: top;\n",
       "    }\n",
       "\n",
       "    .dataframe thead th {\n",
       "        text-align: right;\n",
       "    }\n",
       "</style>\n",
       "<table border=\"1\" class=\"dataframe\">\n",
       "  <thead>\n",
       "    <tr style=\"text-align: right;\">\n",
       "      <th></th>\n",
       "      <th>Age</th>\n",
       "      <th>Salary</th>\n",
       "      <th>Experience</th>\n",
       "    </tr>\n",
       "  </thead>\n",
       "  <tbody>\n",
       "    <tr>\n",
       "      <th>0</th>\n",
       "      <td>25.0</td>\n",
       "      <td>50000.0</td>\n",
       "      <td>1.0</td>\n",
       "    </tr>\n",
       "    <tr>\n",
       "      <th>1</th>\n",
       "      <td>NaN</td>\n",
       "      <td>60000.0</td>\n",
       "      <td>3.0</td>\n",
       "    </tr>\n",
       "    <tr>\n",
       "      <th>2</th>\n",
       "      <td>30.0</td>\n",
       "      <td>NaN</td>\n",
       "      <td>5.0</td>\n",
       "    </tr>\n",
       "    <tr>\n",
       "      <th>3</th>\n",
       "      <td>35.0</td>\n",
       "      <td>65000.0</td>\n",
       "      <td>4.0</td>\n",
       "    </tr>\n",
       "    <tr>\n",
       "      <th>4</th>\n",
       "      <td>40.0</td>\n",
       "      <td>70000.0</td>\n",
       "      <td>5.0</td>\n",
       "    </tr>\n",
       "    <tr>\n",
       "      <th>5</th>\n",
       "      <td>NaN</td>\n",
       "      <td>80000.0</td>\n",
       "      <td>6.0</td>\n",
       "    </tr>\n",
       "    <tr>\n",
       "      <th>6</th>\n",
       "      <td>50.0</td>\n",
       "      <td>90000.0</td>\n",
       "      <td>NaN</td>\n",
       "    </tr>\n",
       "  </tbody>\n",
       "</table>\n",
       "</div>"
      ],
      "text/plain": [
       "    Age   Salary  Experience\n",
       "0  25.0  50000.0         1.0\n",
       "1   NaN  60000.0         3.0\n",
       "2  30.0      NaN         5.0\n",
       "3  35.0  65000.0         4.0\n",
       "4  40.0  70000.0         5.0\n",
       "5   NaN  80000.0         6.0\n",
       "6  50.0  90000.0         NaN"
      ]
     },
     "execution_count": 32,
     "metadata": {},
     "output_type": "execute_result"
    }
   ],
   "source": [
    "data_df"
   ]
  },
  {
   "cell_type": "markdown",
   "id": "67092e7b",
   "metadata": {
    "slideshow": {
     "slide_type": "slide"
    }
   },
   "source": [
    "###  Now Let's put everything into a Function"
   ]
  },
  {
   "cell_type": "code",
   "execution_count": 33,
   "id": "5b19605f",
   "metadata": {
    "slideshow": {
     "slide_type": "slide"
    }
   },
   "outputs": [],
   "source": [
    "def linear_regression_imputation(data_df,target_column):\n",
    " \n",
    "    # Make a copy of the original DataFrame to avoid modifying it directly\n",
    "    imputed_df = data_df.copy()\n",
    "    \n",
    "    # Step 1: Select the target column with missing values\n",
    "    complete_data = imputed_df.dropna(subset=[target_column])\n",
    " \n",
    "    missing_data = imputed_df[imputed_df[target_column].isna()]\n",
    "    # Step 2: Prepare the training data (excluding rows with missing target values)\n",
    "    X_train = complete_data.drop(columns=[target_column])\n",
    "    y_train = complete_data[target_column]\n",
    "    \n",
    "    # Handle missing values in predictor columns for training (simple imputation)\n",
    "    for column in X_train.columns:\n",
    "        if X_train[column].isna().any():\n",
    "            X_train[column].fillna(X_train[column].mean(), inplace=True)\n",
    "            \n",
    "    # Step 3: Train the linear regression model\n",
    "    model = LinearRegression()\n",
    "    model.fit(X_train, y_train)\n",
    "    # Prepare the data for prediction (exclude target column and handle missing predictors)\n",
    "    X_missing = missing_data.drop(columns=[target_column])\n",
    "    for column in X_missing.columns:\n",
    "        if X_missing[column].isna().any():\n",
    "            X_missing[column].fillna(X_missing[column].mean(), inplace=True)\n",
    "    # Step 4: Predict the missing values in the target column\n",
    "    \n",
    "    predicted_values = model.predict(X_missing)\n",
    "    # Step 5: Fdata_df_imput=ill in the missing values in the original dataset\n",
    "    imputed_df.loc[imputed_df[target_column].isna(), target_column] = predicted_values\n",
    "\n",
    "\n",
    "    return imputed_df\n",
    "\n"
   ]
  },
  {
   "cell_type": "code",
   "execution_count": 35,
   "id": "d1441dcb",
   "metadata": {
    "slideshow": {
     "slide_type": "slide"
    }
   },
   "outputs": [
    {
     "data": {
      "text/html": [
       "<div>\n",
       "<style scoped>\n",
       "    .dataframe tbody tr th:only-of-type {\n",
       "        vertical-align: middle;\n",
       "    }\n",
       "\n",
       "    .dataframe tbody tr th {\n",
       "        vertical-align: top;\n",
       "    }\n",
       "\n",
       "    .dataframe thead th {\n",
       "        text-align: right;\n",
       "    }\n",
       "</style>\n",
       "<table border=\"1\" class=\"dataframe\">\n",
       "  <thead>\n",
       "    <tr style=\"text-align: right;\">\n",
       "      <th></th>\n",
       "      <th>Age</th>\n",
       "      <th>Salary</th>\n",
       "      <th>Experience</th>\n",
       "    </tr>\n",
       "  </thead>\n",
       "  <tbody>\n",
       "    <tr>\n",
       "      <th>0</th>\n",
       "      <td>25.000000</td>\n",
       "      <td>50000.0</td>\n",
       "      <td>1.0</td>\n",
       "    </tr>\n",
       "    <tr>\n",
       "      <th>1</th>\n",
       "      <td>30.656726</td>\n",
       "      <td>60000.0</td>\n",
       "      <td>3.0</td>\n",
       "    </tr>\n",
       "    <tr>\n",
       "      <th>2</th>\n",
       "      <td>30.000000</td>\n",
       "      <td>NaN</td>\n",
       "      <td>5.0</td>\n",
       "    </tr>\n",
       "    <tr>\n",
       "      <th>3</th>\n",
       "      <td>35.000000</td>\n",
       "      <td>65000.0</td>\n",
       "      <td>4.0</td>\n",
       "    </tr>\n",
       "    <tr>\n",
       "      <th>4</th>\n",
       "      <td>40.000000</td>\n",
       "      <td>70000.0</td>\n",
       "      <td>5.0</td>\n",
       "    </tr>\n",
       "    <tr>\n",
       "      <th>5</th>\n",
       "      <td>41.975032</td>\n",
       "      <td>80000.0</td>\n",
       "      <td>6.0</td>\n",
       "    </tr>\n",
       "    <tr>\n",
       "      <th>6</th>\n",
       "      <td>50.000000</td>\n",
       "      <td>90000.0</td>\n",
       "      <td>NaN</td>\n",
       "    </tr>\n",
       "  </tbody>\n",
       "</table>\n",
       "</div>"
      ],
      "text/plain": [
       "         Age   Salary  Experience\n",
       "0  25.000000  50000.0         1.0\n",
       "1  30.656726  60000.0         3.0\n",
       "2  30.000000      NaN         5.0\n",
       "3  35.000000  65000.0         4.0\n",
       "4  40.000000  70000.0         5.0\n",
       "5  41.975032  80000.0         6.0\n",
       "6  50.000000  90000.0         NaN"
      ]
     },
     "execution_count": 35,
     "metadata": {},
     "output_type": "execute_result"
    }
   ],
   "source": [
    "data_df_imputed = linear_regression_imputation(data_df,'Age')\n",
    "data_df_imputed=pd.DataFrame(data_df_imputed, columns=data_df.columns)\n",
    "data_df_imputed"
   ]
  },
  {
   "cell_type": "code",
   "execution_count": 36,
   "id": "c6f890d0",
   "metadata": {
    "slideshow": {
     "slide_type": "fragment"
    }
   },
   "outputs": [
    {
     "data": {
      "text/html": [
       "<div>\n",
       "<style scoped>\n",
       "    .dataframe tbody tr th:only-of-type {\n",
       "        vertical-align: middle;\n",
       "    }\n",
       "\n",
       "    .dataframe tbody tr th {\n",
       "        vertical-align: top;\n",
       "    }\n",
       "\n",
       "    .dataframe thead th {\n",
       "        text-align: right;\n",
       "    }\n",
       "</style>\n",
       "<table border=\"1\" class=\"dataframe\">\n",
       "  <thead>\n",
       "    <tr style=\"text-align: right;\">\n",
       "      <th></th>\n",
       "      <th>Age</th>\n",
       "      <th>Salary</th>\n",
       "      <th>Experience</th>\n",
       "    </tr>\n",
       "  </thead>\n",
       "  <tbody>\n",
       "    <tr>\n",
       "      <th>0</th>\n",
       "      <td>25.0</td>\n",
       "      <td>50000.0</td>\n",
       "      <td>1.0</td>\n",
       "    </tr>\n",
       "    <tr>\n",
       "      <th>1</th>\n",
       "      <td>NaN</td>\n",
       "      <td>60000.0</td>\n",
       "      <td>3.0</td>\n",
       "    </tr>\n",
       "    <tr>\n",
       "      <th>2</th>\n",
       "      <td>30.0</td>\n",
       "      <td>NaN</td>\n",
       "      <td>5.0</td>\n",
       "    </tr>\n",
       "    <tr>\n",
       "      <th>3</th>\n",
       "      <td>35.0</td>\n",
       "      <td>65000.0</td>\n",
       "      <td>4.0</td>\n",
       "    </tr>\n",
       "    <tr>\n",
       "      <th>4</th>\n",
       "      <td>40.0</td>\n",
       "      <td>70000.0</td>\n",
       "      <td>5.0</td>\n",
       "    </tr>\n",
       "    <tr>\n",
       "      <th>5</th>\n",
       "      <td>NaN</td>\n",
       "      <td>80000.0</td>\n",
       "      <td>6.0</td>\n",
       "    </tr>\n",
       "    <tr>\n",
       "      <th>6</th>\n",
       "      <td>50.0</td>\n",
       "      <td>90000.0</td>\n",
       "      <td>8.5</td>\n",
       "    </tr>\n",
       "  </tbody>\n",
       "</table>\n",
       "</div>"
      ],
      "text/plain": [
       "    Age   Salary  Experience\n",
       "0  25.0  50000.0         1.0\n",
       "1   NaN  60000.0         3.0\n",
       "2  30.0      NaN         5.0\n",
       "3  35.0  65000.0         4.0\n",
       "4  40.0  70000.0         5.0\n",
       "5   NaN  80000.0         6.0\n",
       "6  50.0  90000.0         8.5"
      ]
     },
     "execution_count": 36,
     "metadata": {},
     "output_type": "execute_result"
    }
   ],
   "source": [
    "data_df_imputed = linear_regression_imputation(data_df,'Experience')\n",
    "data_df_imputed=pd.DataFrame(data_df_imputed, columns=data_df.columns)\n",
    "data_df_imputed"
   ]
  },
  {
   "cell_type": "markdown",
   "id": "ebf301cd",
   "metadata": {
    "slideshow": {
     "slide_type": "slide"
    }
   },
   "source": [
    "##  Imputation with LinearRegression with uncertainty"
   ]
  },
  {
   "cell_type": "code",
   "execution_count": 37,
   "id": "8e79b69a",
   "metadata": {
    "slideshow": {
     "slide_type": "slide"
    }
   },
   "outputs": [],
   "source": [
    "def linear_regression_imputation_with_uncertainty(df, target):\n",
    "    # Impute other columns using mean imputation to handle NaNs in predictors\n",
    "    imputer = SimpleImputer(strategy='mean')\n",
    "    predictors = df.drop(columns=[target])\n",
    "    df[predictors.columns] = imputer.fit_transform(predictors)\n",
    "\n",
    "    # Separate into datasets with and without missing target values\n",
    "    df_with_target = df[df[target].notnull()]\n",
    "    df_without_target = df[df[target].isnull()]\n",
    "\n",
    "    # Check if there is anything to impute\n",
    "    if df_without_target.empty:\n",
    "        return df\n",
    "\n",
    "    # Separate target and predictors\n",
    "    X = df_with_target.drop(columns=[target])\n",
    "    y = df_with_target[target]\n",
    "\n",
    "    # Fit the model\n",
    "    model = LinearRegression()\n",
    "    model.fit(X, y)\n",
    "\n",
    "    # Predict and calculate the error on the training set\n",
    "    predictions = model.predict(X)\n",
    "    mse = mean_squared_error(y, predictions)\n",
    "    rmse = np.sqrt(mse)\n",
    "\n",
    "    # Predict the missing values\n",
    "    X_missing = df_without_target.drop(columns=[target])\n",
    "    predicted = model.predict(X_missing)\n",
    "\n",
    "    # Add random noise to the predicted values to introduce uncertainty\n",
    "    # Noise is drawn from a normal distribution with mean 0 and std equal to rmse\n",
    "    noise = np.random.normal(0, rmse, size=predicted.shape)\n",
    "    predicted_with_uncertainty = predicted + noise\n",
    "\n",
    "    df.loc[df[target].isnull(), target] = predicted_with_uncertainty\n",
    "\n",
    "    return df\n"
   ]
  },
  {
   "cell_type": "code",
   "execution_count": 38,
   "id": "91625b98",
   "metadata": {
    "slideshow": {
     "slide_type": "slide"
    }
   },
   "outputs": [],
   "source": [
    "# Apply the function for each column with missing values\n",
    "for column in data_df.columns:\n",
    "    df_3 = linear_regression_imputation_with_uncertainty(data_df, column)"
   ]
  },
  {
   "cell_type": "code",
   "execution_count": 39,
   "id": "7af82bd9",
   "metadata": {
    "slideshow": {
     "slide_type": "slide"
    }
   },
   "outputs": [
    {
     "name": "stdout",
     "output_type": "stream",
     "text": [
      "Data after Linear Regression Imputation with Uncertainty:\n"
     ]
    },
    {
     "data": {
      "text/html": [
       "<div>\n",
       "<style scoped>\n",
       "    .dataframe tbody tr th:only-of-type {\n",
       "        vertical-align: middle;\n",
       "    }\n",
       "\n",
       "    .dataframe tbody tr th {\n",
       "        vertical-align: top;\n",
       "    }\n",
       "\n",
       "    .dataframe thead th {\n",
       "        text-align: right;\n",
       "    }\n",
       "</style>\n",
       "<table border=\"1\" class=\"dataframe\">\n",
       "  <thead>\n",
       "    <tr style=\"text-align: right;\">\n",
       "      <th></th>\n",
       "      <th>Age</th>\n",
       "      <th>Salary</th>\n",
       "      <th>Experience</th>\n",
       "    </tr>\n",
       "  </thead>\n",
       "  <tbody>\n",
       "    <tr>\n",
       "      <th>0</th>\n",
       "      <td>25.00000</td>\n",
       "      <td>50000.000000</td>\n",
       "      <td>1.0</td>\n",
       "    </tr>\n",
       "    <tr>\n",
       "      <th>1</th>\n",
       "      <td>34.96213</td>\n",
       "      <td>60000.000000</td>\n",
       "      <td>3.0</td>\n",
       "    </tr>\n",
       "    <tr>\n",
       "      <th>2</th>\n",
       "      <td>30.00000</td>\n",
       "      <td>69166.666667</td>\n",
       "      <td>5.0</td>\n",
       "    </tr>\n",
       "    <tr>\n",
       "      <th>3</th>\n",
       "      <td>35.00000</td>\n",
       "      <td>65000.000000</td>\n",
       "      <td>4.0</td>\n",
       "    </tr>\n",
       "    <tr>\n",
       "      <th>4</th>\n",
       "      <td>40.00000</td>\n",
       "      <td>70000.000000</td>\n",
       "      <td>5.0</td>\n",
       "    </tr>\n",
       "    <tr>\n",
       "      <th>5</th>\n",
       "      <td>40.56073</td>\n",
       "      <td>80000.000000</td>\n",
       "      <td>6.0</td>\n",
       "    </tr>\n",
       "    <tr>\n",
       "      <th>6</th>\n",
       "      <td>50.00000</td>\n",
       "      <td>90000.000000</td>\n",
       "      <td>4.0</td>\n",
       "    </tr>\n",
       "  </tbody>\n",
       "</table>\n",
       "</div>"
      ],
      "text/plain": [
       "        Age        Salary  Experience\n",
       "0  25.00000  50000.000000         1.0\n",
       "1  34.96213  60000.000000         3.0\n",
       "2  30.00000  69166.666667         5.0\n",
       "3  35.00000  65000.000000         4.0\n",
       "4  40.00000  70000.000000         5.0\n",
       "5  40.56073  80000.000000         6.0\n",
       "6  50.00000  90000.000000         4.0"
      ]
     },
     "execution_count": 39,
     "metadata": {},
     "output_type": "execute_result"
    }
   ],
   "source": [
    "print(\"Data after Linear Regression Imputation with Uncertainty:\")\n",
    "df_3"
   ]
  },
  {
   "cell_type": "code",
   "execution_count": null,
   "id": "6fcc0eb9",
   "metadata": {},
   "outputs": [],
   "source": []
  },
  {
   "cell_type": "markdown",
   "id": "f68e5e36",
   "metadata": {
    "slideshow": {
     "slide_type": "slide"
    }
   },
   "source": [
    "### Exercise : \n",
    "\n",
    "1. Read a larger data set from missing_data_df.csv \n",
    "2. Indentify the NaNs in each columns\n",
    "\n",
    "\n",
    "3. Plot the Salary with Age and Salary with Experience\n",
    "\n",
    "4. Do the imputation with \n",
    "1) drop nan\n",
    "2) Mean\n",
    "4) KNN\n",
    "3) Linear regression with linear_regression_imputation_with_uncertainty\n",
    "\n",
    "5. Compute the linear regression R2 score with the three imputation method"
   ]
  },
  {
   "cell_type": "code",
   "execution_count": 40,
   "id": "431f8090",
   "metadata": {
    "slideshow": {
     "slide_type": "slide"
    }
   },
   "outputs": [
    {
     "data": {
      "text/html": [
       "<div>\n",
       "<style scoped>\n",
       "    .dataframe tbody tr th:only-of-type {\n",
       "        vertical-align: middle;\n",
       "    }\n",
       "\n",
       "    .dataframe tbody tr th {\n",
       "        vertical-align: top;\n",
       "    }\n",
       "\n",
       "    .dataframe thead th {\n",
       "        text-align: right;\n",
       "    }\n",
       "</style>\n",
       "<table border=\"1\" class=\"dataframe\">\n",
       "  <thead>\n",
       "    <tr style=\"text-align: right;\">\n",
       "      <th></th>\n",
       "      <th>Age</th>\n",
       "      <th>Experience</th>\n",
       "      <th>Salary</th>\n",
       "    </tr>\n",
       "  </thead>\n",
       "  <tbody>\n",
       "    <tr>\n",
       "      <th>0</th>\n",
       "      <td>58.0</td>\n",
       "      <td>6.0</td>\n",
       "      <td>93691.067676</td>\n",
       "    </tr>\n",
       "    <tr>\n",
       "      <th>1</th>\n",
       "      <td>48.0</td>\n",
       "      <td>6.0</td>\n",
       "      <td>91262.166674</td>\n",
       "    </tr>\n",
       "    <tr>\n",
       "      <th>2</th>\n",
       "      <td>34.0</td>\n",
       "      <td>7.0</td>\n",
       "      <td>70537.396308</td>\n",
       "    </tr>\n",
       "    <tr>\n",
       "      <th>3</th>\n",
       "      <td>27.0</td>\n",
       "      <td>4.0</td>\n",
       "      <td>62426.317793</td>\n",
       "    </tr>\n",
       "    <tr>\n",
       "      <th>4</th>\n",
       "      <td>NaN</td>\n",
       "      <td>2.0</td>\n",
       "      <td>NaN</td>\n",
       "    </tr>\n",
       "  </tbody>\n",
       "</table>\n",
       "</div>"
      ],
      "text/plain": [
       "    Age  Experience        Salary\n",
       "0  58.0         6.0  93691.067676\n",
       "1  48.0         6.0  91262.166674\n",
       "2  34.0         7.0  70537.396308\n",
       "3  27.0         4.0  62426.317793\n",
       "4   NaN         2.0           NaN"
      ]
     },
     "execution_count": 40,
     "metadata": {},
     "output_type": "execute_result"
    }
   ],
   "source": [
    "larger_data_df = pd.read_csv(\"data/missing_data_df.csv\")\n",
    "larger_data_df.head()"
   ]
  },
  {
   "cell_type": "code",
   "execution_count": 41,
   "id": "df0ea96f",
   "metadata": {
    "slideshow": {
     "slide_type": "slide"
    }
   },
   "outputs": [
    {
     "data": {
      "text/plain": [
       "Age           True\n",
       "Experience    True\n",
       "Salary        True\n",
       "dtype: bool"
      ]
     },
     "execution_count": 41,
     "metadata": {},
     "output_type": "execute_result"
    }
   ],
   "source": [
    "larger_data_df.isnull().any()"
   ]
  },
  {
   "cell_type": "code",
   "execution_count": 42,
   "id": "63201fc6",
   "metadata": {
    "slideshow": {
     "slide_type": "slide"
    }
   },
   "outputs": [
    {
     "data": {
      "text/plain": [
       "Age           10\n",
       "Experience     5\n",
       "Salary        13\n",
       "dtype: int64"
      ]
     },
     "execution_count": 42,
     "metadata": {},
     "output_type": "execute_result"
    }
   ],
   "source": [
    "larger_data_df.isnull().sum()"
   ]
  },
  {
   "cell_type": "code",
   "execution_count": 43,
   "id": "f02d95e8",
   "metadata": {
    "slideshow": {
     "slide_type": "slide"
    }
   },
   "outputs": [
    {
     "data": {
      "text/plain": [
       "<matplotlib.collections.PathCollection at 0x7f9130f455b0>"
      ]
     },
     "execution_count": 43,
     "metadata": {},
     "output_type": "execute_result"
    },
    {
     "data": {
      "image/png": "[encoded data removed]",
      "text/plain": [
       "<Figure size 432x288 with 1 Axes>"
      ]
     },
     "metadata": {
      "needs_background": "light"
     },
     "output_type": "display_data"
    }
   ],
   "source": [
    "plt.scatter(larger_data_df['Salary'],larger_data_df['Age'])"
   ]
  },
  {
   "cell_type": "code",
   "execution_count": 44,
   "id": "9b45d29f",
   "metadata": {
    "slideshow": {
     "slide_type": "slide"
    }
   },
   "outputs": [
    {
     "data": {
      "text/plain": [
       "<matplotlib.collections.PathCollection at 0x7f91407590d0>"
      ]
     },
     "execution_count": 44,
     "metadata": {},
     "output_type": "execute_result"
    },
    {
     "data": {
      "image/png": "[encoded data removed]",
      "text/plain": [
       "<Figure size 432x288 with 1 Axes>"
      ]
     },
     "metadata": {
      "needs_background": "light"
     },
     "output_type": "display_data"
    }
   ],
   "source": [
    "plt.scatter(larger_data_df['Salary'],larger_data_df['Experience'])"
   ]
  },
  {
   "cell_type": "code",
   "execution_count": 45,
   "id": "c71e35af",
   "metadata": {
    "slideshow": {
     "slide_type": "slide"
    }
   },
   "outputs": [
    {
     "data": {
      "text/plain": [
       "0.889549031590729"
      ]
     },
     "execution_count": 45,
     "metadata": {},
     "output_type": "execute_result"
    }
   ],
   "source": [
    "# Drop NaN values\n",
    "data_dropped = larger_data_df.dropna()\n",
    "\n",
    "# Separate predictors and target\n",
    "X_dropped = data_dropped[['Age', 'Experience']]\n",
    "y_dropped = data_dropped['Salary']\n",
    "\n",
    "\n",
    "# Linear Regression\n",
    "model_drop = LinearRegression()\n",
    "model_drop.fit(X_dropped, y_dropped)\n",
    "\n",
    "y_pred_drop = model_drop.predict(X_dropped)\n",
    "r2_score(y_dropped, y_pred_drop)\n"
   ]
  },
  {
   "cell_type": "code",
   "execution_count": 46,
   "id": "92d28491",
   "metadata": {
    "slideshow": {
     "slide_type": "slide"
    }
   },
   "outputs": [],
   "source": [
    "# Initialize the SimpleImputer with 'mean' strategy\n",
    "imputer = SimpleImputer(strategy='mean')\n",
    "\n",
    "# Fit the imputer to the data and transform it to fill in missing values\n",
    "imputed_mean_data = imputer.fit_transform(larger_data_df)\n",
    "\n",
    "# Convert the array back to a DataFrame\n",
    "imputed_mean_data_df = pd.DataFrame(imputed_mean_data, columns=larger_data_df.columns)"
   ]
  },
  {
   "cell_type": "code",
   "execution_count": 47,
   "id": "80d47e9d",
   "metadata": {
    "slideshow": {
     "slide_type": "slide"
    }
   },
   "outputs": [
    {
     "data": {
      "text/plain": [
       "0.8345991279176928"
      ]
     },
     "execution_count": 47,
     "metadata": {},
     "output_type": "execute_result"
    }
   ],
   "source": [
    "# Continue with the linear regression using imputed values\n",
    "X_mean = imputed_mean_data_df[['Age', 'Experience']]\n",
    "y_mean = imputed_mean_data_df['Salary']\n",
    "\n",
    "\n",
    "model_mean = LinearRegression()\n",
    "model_mean.fit(X_mean, y_mean)  \n",
    "\n",
    "y_pred_mean = model_mean.predict(X_mean)\n",
    "r2_score(y_mean, y_pred_mean)"
   ]
  },
  {
   "cell_type": "code",
   "execution_count": 48,
   "id": "fa198bdc",
   "metadata": {
    "slideshow": {
     "slide_type": "slide"
    }
   },
   "outputs": [
    {
     "data": {
      "text/plain": [
       "0.8986101318319933"
      ]
     },
     "execution_count": 48,
     "metadata": {},
     "output_type": "execute_result"
    }
   ],
   "source": [
    "# Impute missing values using KNN\n",
    "knn_imputer = KNNImputer(n_neighbors=2)\n",
    "data_knn_imputed = pd.DataFrame(knn_imputer.fit_transform(larger_data_df), columns=larger_data_df.columns)\n",
    "\n",
    "X_knn = data_knn_imputed[['Age', 'Experience']]\n",
    "y_knn = data_knn_imputed['Salary']\n",
    "\n",
    "\n",
    "model_knn = LinearRegression()\n",
    "model_knn.fit(X_knn, y_knn)\n",
    "\n",
    "y_pred_knn = model_knn.predict(X_knn)\n",
    "r2_score(y_knn, y_pred_knn)"
   ]
  },
  {
   "cell_type": "code",
   "execution_count": null,
   "id": "95aecda3",
   "metadata": {},
   "outputs": [],
   "source": []
  },
  {
   "cell_type": "code",
   "execution_count": 49,
   "id": "6afef24f",
   "metadata": {
    "slideshow": {
     "slide_type": "slide"
    }
   },
   "outputs": [],
   "source": [
    "# Apply the function for each column with missing values\n",
    "for column in larger_data_df.columns:\n",
    "    data_lr_imputed = linear_regression_imputation_with_uncertainty(larger_data_df, column)"
   ]
  },
  {
   "cell_type": "code",
   "execution_count": 50,
   "id": "c50c9d00",
   "metadata": {
    "slideshow": {
     "slide_type": "slide"
    }
   },
   "outputs": [
    {
     "data": {
      "text/plain": [
       "0.8127914190143388"
      ]
     },
     "execution_count": 50,
     "metadata": {},
     "output_type": "execute_result"
    }
   ],
   "source": [
    "# Continue with the linear regression using imputed values\n",
    "X_lr = data_lr_imputed[['Age', 'Experience']]\n",
    "y_lr = data_lr_imputed['Salary']\n",
    "\n",
    "\n",
    "model_linreg = LinearRegression()\n",
    "model_linreg.fit(X_lr, y_lr)  \n",
    "\n",
    "y_pred_linreg = model_linreg.predict(X_lr)\n",
    "r2_score(y_lr, y_pred_linreg)"
   ]
  },
  {
   "cell_type": "code",
   "execution_count": null,
   "id": "9197f35b",
   "metadata": {},
   "outputs": [],
   "source": []
  },
  {
   "cell_type": "code",
   "execution_count": null,
   "id": "97da59a6",
   "metadata": {},
   "outputs": [],
   "source": []
  }
 ],
 "metadata": {
  "celltoolbar": "Slideshow",
  "kernelspec": {
   "display_name": "Python 3",
   "language": "python",
   "name": "python3"
  },
  "language_info": {
   "codemirror_mode": {
    "name": "ipython",
    "version": 3
   },
   "file_extension": ".py",
   "mimetype": "text/x-python",
   "name": "python",
   "nbconvert_exporter": "python",
   "pygments_lexer": "ipython3",
   "version": "3.8.8"
  }
 },
 "nbformat": 4,
 "nbformat_minor": 5
}
