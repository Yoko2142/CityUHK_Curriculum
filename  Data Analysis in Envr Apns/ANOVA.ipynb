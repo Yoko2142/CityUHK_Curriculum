{
 "cells": [
  {
   "cell_type": "code",
   "execution_count": 13,
   "id": "64fd6139",
   "metadata": {},
   "outputs": [],
   "source": [
    "import scipy.stats as stats\n",
    "import numpy as np\n",
    "import matplotlib.pyplot as plt"
   ]
  },
  {
   "cell_type": "code",
   "execution_count": 2,
   "id": "2e37fd6a",
   "metadata": {},
   "outputs": [],
   "source": [
    "# Example data\n",
    "group1 = [20, 21, 19, 22, 23]\n",
    "group2 = [27, 29, 28, 26, 25]\n",
    "group3 = [31, 32, 30, 33, 34]\n"
   ]
  },
  {
   "cell_type": "code",
   "execution_count": 3,
   "id": "99ea0116",
   "metadata": {},
   "outputs": [
    {
     "data": {
      "image/png": "[encoded data removed]",
      "text/plain": [
       "<Figure size 288x288 with 1 Axes>"
      ]
     },
     "metadata": {
      "needs_background": "light"
     },
     "output_type": "display_data"
    }
   ],
   "source": [
    "# Boxplot for the groups\n",
    "plt.figure(figsize=(4, 4))\n",
    "plt.boxplot([group1, group2, group3], labels=['Group 1', 'Group 2', 'Group 3'])\n",
    "plt.title('Boxplot of Scores for Groups 1, 2, and 3')\n",
    "plt.ylabel('Scores')\n",
    "plt.show()"
   ]
  },
  {
   "cell_type": "code",
   "execution_count": 4,
   "id": "79b30d6f",
   "metadata": {},
   "outputs": [
    {
     "name": "stdout",
     "output_type": "stream",
     "text": [
      "F-statistic: 60.666666666666664, P-value: 5.314410000000004e-07\n"
     ]
    }
   ],
   "source": [
    "# Perform one-way ANOVA\n",
    "f_stat, p_value = stats.f_oneway(group1, group2, group3)\n",
    "\n",
    "print(f\"F-statistic: {f_stat}, P-value: {p_value}\")\n"
   ]
  },
  {
   "cell_type": "code",
   "execution_count": 6,
   "id": "3921d5b0",
   "metadata": {},
   "outputs": [
    {
     "data": {
      "text/plain": [
       "(True, 5.314410000000004e-07)"
      ]
     },
     "execution_count": 6,
     "metadata": {},
     "output_type": "execute_result"
    }
   ],
   "source": [
    "# Define the significance level at 0.01\n",
    "alpha = 0.01\n",
    "significant = p_value < alpha\n",
    "\n",
    "significant, p_value"
   ]
  },
  {
   "cell_type": "markdown",
   "id": "72c51125",
   "metadata": {},
   "source": [
    "At the significance level of 0.01, since the p-value (0.00883) is less than 0.01, we conclude that there is a statistically significant difference between the means of the three groups. \n",
    "\n",
    "Thus, we reject the null hypothesis, indicating significant differences in the data sets at the 1% significance level"
   ]
  },
  {
   "cell_type": "markdown",
   "id": "d18c5c85",
   "metadata": {},
   "source": [
    "### We can also do it from scratch"
   ]
  },
  {
   "cell_type": "markdown",
   "id": "90ad0bbe",
   "metadata": {},
   "source": [
    "To calculate the p-value from scratch, we need to follow the calculations step by step:\n",
    "\n",
    "1. Calculate the group means and the overall mean.\n",
    "2. Compute the Sum of Squares Between (SSTr) and Sum of Squares Within (SSE).\n",
    "3. Determine the Mean Square Between (MST) and Mean Square Within (MSE).\n",
    "4. Calculate the F-statistic.\n",
    "5. Find the p-value from the F-distribution."
   ]
  },
  {
   "cell_type": "code",
   "execution_count": 7,
   "id": "d0273100",
   "metadata": {},
   "outputs": [],
   "source": [
    "# Calculate means\n",
    "mean1 = np.mean(group1)\n",
    "mean2 = np.mean(group2)\n",
    "mean3 = np.mean(group3)\n",
    "overall_mean = np.mean(group1 + group2 + group3)"
   ]
  },
  {
   "cell_type": "code",
   "execution_count": 8,
   "id": "60439678",
   "metadata": {},
   "outputs": [],
   "source": [
    "# Calculate Sum of Squares\n",
    "SSTr = len(group1) * ((mean1 - overall_mean) ** 2 + (mean2 - overall_mean) ** 2 + (mean3 - overall_mean) ** 2)\n",
    "SSE = sum((x - mean1) ** 2 for x in group1) + sum((x - mean2) ** 2 for x in group2) + sum((x - mean3) ** 2 for x in group3)\n",
    "\n",
    "# Calculate Mean Square Between (MSB) and Mean Square Within (MSW)\n",
    "df_between = 2  # number of groups - 1\n",
    "df_within = len(group1 + group2 + group3) - 3  # total number of observations - number of groups\n",
    "MST = SSTr / df_between\n",
    "MSE = SSE / df_within"
   ]
  },
  {
   "cell_type": "code",
   "execution_count": 11,
   "id": "fa4e38be",
   "metadata": {},
   "outputs": [
    {
     "data": {
      "text/plain": [
       "60.66666666666665"
      ]
     },
     "execution_count": 11,
     "metadata": {},
     "output_type": "execute_result"
    }
   ],
   "source": [
    "# Calculate F-statistic\n",
    "F = MST / MSE\n",
    "F"
   ]
  },
  {
   "cell_type": "code",
   "execution_count": 12,
   "id": "d478e130",
   "metadata": {},
   "outputs": [
    {
     "data": {
      "text/plain": [
       "(60.66666666666665, 5.314409999845893e-07)"
      ]
     },
     "execution_count": 12,
     "metadata": {},
     "output_type": "execute_result"
    }
   ],
   "source": [
    "from scipy.stats import f\n",
    "\n",
    "# Calculate p-value\n",
    "p_value = 1 - f.cdf(F, df_between, df_within)\n",
    "\n",
    "F, p_value"
   ]
  },
  {
   "cell_type": "markdown",
   "id": "a71af20c",
   "metadata": {},
   "source": [
    "### f.cdf(F_statistic, df_between, df_within) \n",
    "\n",
    "gives the probability of observing a value less than or equal to the F-statistic under the null hypothesis.\n",
    "\n",
    "\n",
    "Subtracting this value from 1 gives the probability of observing a more extreme value than the F-statistic, which is the p-value."
   ]
  },
  {
   "cell_type": "code",
   "execution_count": null,
   "id": "dc735a1d",
   "metadata": {},
   "outputs": [],
   "source": []
  }
 ],
 "metadata": {
  "kernelspec": {
   "display_name": "Python 3",
   "language": "python",
   "name": "python3"
  },
  "language_info": {
   "codemirror_mode": {
    "name": "ipython",
    "version": 3
   },
   "file_extension": ".py",
   "mimetype": "text/x-python",
   "name": "python",
   "nbconvert_exporter": "python",
   "pygments_lexer": "ipython3",
   "version": "3.8.8"
  }
 },
 "nbformat": 4,
 "nbformat_minor": 5
}
