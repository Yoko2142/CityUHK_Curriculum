{
 "cells": [
  {
   "cell_type": "markdown",
   "id": "42f32703",
   "metadata": {},
   "source": [
    "# Python Tutorials: Confidence Intervals and Hypothesis Testing"
   ]
  },
  {
   "cell_type": "markdown",
   "id": "8c93dbdf",
   "metadata": {},
   "source": [
    "This notebook provides tutorials on confidence intervals and hypothesis testing for one sample and two samples."
   ]
  },
  {
   "cell_type": "code",
   "execution_count": null,
   "id": "9c01328b",
   "metadata": {},
   "outputs": [],
   "source": [
    "import numpy as np\n",
    "import scipy.stats as stats\n",
    "from scipy.stats import norm\n",
    "import matplotlib.pyplot as plt"
   ]
  },
  {
   "cell_type": "markdown",
   "id": "8c2fe242",
   "metadata": {},
   "source": [
    "## 1. Confidence Interval for One Sample"
   ]
  },
  {
   "cell_type": "markdown",
   "id": "78e756ca",
   "metadata": {},
   "source": [
    "### 1. 1.1 Confidence Interval with Z-Distribution\n",
    "Calculating a confidence interval using the Z-distribution, appropriate for large sample sizes and when the population standard deviation is known or well-estimated."
   ]
  },
  {
   "cell_type": "markdown",
   "id": "a0fab214",
   "metadata": {},
   "source": [
    "### 1.1.1.1. One talied "
   ]
  },
  {
   "cell_type": "markdown",
   "id": "7218cf65",
   "metadata": {},
   "source": [
    "\"stats.norm.ppf\"\n",
    "\n",
    "The ppf stands for \"percent point function,\"\n",
    "\n",
    "When you provide a probability q to stats.norm.ppf(q), it returns the z-score (a value on the x-axis of the standard normal distribution) that corresponds to the cumulative probability q. In other words, stats.norm.ppf(q) gives you the value below which a given percentage q of the data falls in a standard normal distribution."
   ]
  },
  {
   "cell_type": "markdown",
   "id": "c05b4f7c",
   "metadata": {},
   "source": [
    "For a one-tailed test, the critical z-value (z_critical) will be different from a two-tailed test because you are only considering the probability in one tail of the distribution.\n",
    "\n",
    "To calculate the z_critical value for a one-tailed test, you need to determine the significance level (alpha, α) of your test. The significance level is the probability of rejecting the null hypothesis when it is actually true. For example, a common alpha value used is 0.05 for a 95% confidence level.\n",
    "\n",
    "Here's how to find the z_critical for a one-tailed test:\n",
    "\n",
    "For a right-tailed test, you find the z-value that corresponds to 1 - α.\n",
    "\n",
    "For a left-tailed test, you find the z-value that corresponds to α."
   ]
  },
  {
   "cell_type": "code",
   "execution_count": null,
   "id": "308fc361",
   "metadata": {},
   "outputs": [],
   "source": [
    "# Known population parameters and sample statistics\n",
    "population_std = 15  # known population standard deviation\n",
    "sample_mean = 102  # sample mean\n",
    "sample_size = 25  # size of the sample\n",
    "confidence_level = 0.95  # 95% confidence level for one-tailed test\n",
    "\n",
    "# Calculate the standard error of the mean\n",
    "standard_error = population_std / (sample_size ** 0.5)\n",
    "\n",
    "# Find the z-critical value for a one-tailed test, left tailed\n",
    "z_critical_one_tailed = stats.norm.ppf(confidence_level)"
   ]
  },
  {
   "cell_type": "code",
   "execution_count": null,
   "id": "7d3ba975",
   "metadata": {},
   "outputs": [],
   "source": [
    "# Calculate the margin of error\n",
    "margin_of_error_one_tailed = z_critical_one_tailed * standard_error\n",
    "\n",
    "# Calculate the confidence interval for a one-tailed test (upper bound)\n",
    "confidence_interval_upper = sample_mean + margin_of_error_one_tailed\n",
    "confidence_interval_lower = sample_mean - margin_of_error_one_tailed\n",
    "print(confidence_interval_lower ,confidence_interval_upper)"
   ]
  },
  {
   "cell_type": "markdown",
   "id": "0b21db3d",
   "metadata": {},
   "source": [
    "### 1.1.1. 2. Two talied "
   ]
  },
  {
   "cell_type": "markdown",
   "id": "3a715cf4",
   "metadata": {},
   "source": [
    "(1 + confidence_level) / 2: \n",
    "\n",
    "To find the Z-critical value for a two-tailed test, you first need to divide the confidence level by 2 and add that to 0.5 (which is the 50% mark of the distribution). \n",
    "\n",
    "For example, for a 95% confidence level, you want the area in the middle of the distribution that corresponds to 95% of the probability, leaving 2.5% in each tail (100% - 95% = 5%, then 5% / 2 = 2.5%). Therefore, you would calculate (1 + 0.95) / 2 to get 0.975. \n",
    "\n",
    "This 0.975 represents the cumulative probability up to the Z-critical value on the right side of the mean."
   ]
  },
  {
   "cell_type": "code",
   "execution_count": null,
   "id": "5aad4eac",
   "metadata": {},
   "outputs": [],
   "source": [
    "# Calculate the z-critical value from the confidence level\n",
    "z_critical = stats.norm.ppf((1 + confidence_level) / 2)  # Two-tailed test"
   ]
  },
  {
   "cell_type": "code",
   "execution_count": null,
   "id": "200d30c7",
   "metadata": {},
   "outputs": [],
   "source": [
    "# Calculate the standard error of the mean (σ/√n)\n",
    "standard_error = population_std / (sample_size ** 0.5)\n",
    "\n",
    "# Calculate the margin of error\n",
    "margin_of_error = z_critical * standard_error\n",
    "\n",
    "# Calculate the confidence interval\n",
    "confidence_interval = (\n",
    "    sample_mean - margin_of_error,\n",
    "    sample_mean + margin_of_error\n",
    ")\n",
    "\n",
    "print(f\"The {confidence_level*100}% confidence interval for the population mean is: {confidence_interval}\")"
   ]
  },
  {
   "cell_type": "markdown",
   "id": "0bbd729d",
   "metadata": {},
   "source": [
    "### Alternatively, you can use \n",
    "confidence_level_two_tailed = 0.95 + (1 - 0.95) / 2  # 95% confidence level for two-tailed test"
   ]
  },
  {
   "cell_type": "code",
   "execution_count": null,
   "id": "afa540d5",
   "metadata": {},
   "outputs": [],
   "source": [
    "# Adjust the confidence_level for a two-tailed test\n",
    "confidence_level_two_tailed = 0.95 + (1 - 0.95) / 2  # 95% confidence level for two-tailed test\n",
    "\n",
    "# Find the z-critical value for a two-tailed test\n",
    "z_critical_two_tailed = stats.norm.ppf(confidence_level_two_tailed)\n",
    "\n",
    "# Calculate the margin of error\n",
    "margin_of_error_two_tailed = z_critical_two_tailed * standard_error\n",
    "\n",
    "# Calculate the confidence interval for a two-tailed test\n",
    "confidence_interval_lower = sample_mean - margin_of_error_two_tailed\n",
    "confidence_interval_upper = sample_mean + margin_of_error_two_tailed\n",
    "\n",
    "print(f\"The {confidence_level*100}% two-tailed confidence interval is: {confidence_interval_lower:.2f} to {confidence_interval_upper:.2f}\")"
   ]
  },
  {
   "cell_type": "code",
   "execution_count": null,
   "id": "a2c9c4f1",
   "metadata": {},
   "outputs": [],
   "source": []
  },
  {
   "cell_type": "code",
   "execution_count": null,
   "id": "4c69bd0a",
   "metadata": {},
   "outputs": [],
   "source": []
  },
  {
   "cell_type": "markdown",
   "id": "1bcb69f8",
   "metadata": {},
   "source": [
    "### 1.1.2 Confidence Interval with T-Distribution\n",
    "Calculating a confidence interval using the T-distribution, suitable for smaller sample sizes or when the population standard deviation is unknown."
   ]
  },
  {
   "cell_type": "markdown",
   "id": "28689b3c",
   "metadata": {},
   "source": [
    "stats.t.ppf is a function from the scipy.stats module in Python, which is used to calculate the percent point function (PPF) or the quantile function for the Student's t-distribution. \n",
    "\n",
    "Syntax and Parameters\n",
    "\n",
    "The stats.t.ppf function takes two main arguments:\n",
    "\n",
    "q: The percentile (expressed as a decimal) you want to find.\n",
    "\n",
    "For example, if you want the 95th percentile, q would be 0.95.\n",
    "\n",
    "df: Degrees of freedom, usually equal to the sample size minus one in t-distribution contexts."
   ]
  },
  {
   "cell_type": "code",
   "execution_count": null,
   "id": "49a90cd0",
   "metadata": {},
   "outputs": [],
   "source": [
    "# Given sample data\n",
    "sample_mean = 100  # The sample mean (x̄)\n",
    "sample_std_dev = 15   # The sample standard deviation (s)\n",
    "sample_size = 30   # The sample size (n)\n",
    "confidence_level = 0.95  # The desired confidence level\n",
    "\n",
    "# Calculate the t-critical value from the confidence level and degrees of freedom (df)\n",
    "# Degrees of freedom for a sample is typically (n - 1)\n",
    "df = sample_size - 1\n",
    "t_critical = stats.t.ppf(q = (1 + confidence_level) / 2, df = df)  # Two-tailed test\n",
    "\n",
    "# Calculate the standard error of the mean (s/√n)\n",
    "standard_error = sample_std_dev / (sample_size ** 0.5)\n",
    "\n",
    "# Calculate the margin of error\n",
    "margin_of_error = t_critical * standard_error\n",
    "\n",
    "# Calculate the confidence interval\n",
    "confidence_interval = (\n",
    "    sample_mean - margin_of_error,\n",
    "    sample_mean + margin_of_error\n",
    ")\n",
    "\n",
    "print(f\"The {confidence_level*100}% confidence interval for the population mean is: {confidence_interval}\")"
   ]
  },
  {
   "cell_type": "code",
   "execution_count": null,
   "id": "b5caf25a",
   "metadata": {},
   "outputs": [],
   "source": []
  },
  {
   "cell_type": "markdown",
   "id": "6968ed8a",
   "metadata": {},
   "source": [
    "## Exercise:\n",
    "1. Calc. 90.0% two-tailed confidence interval for the normal distirbution with sample mean= 10, poplutaion_std=3, sample size=100\n",
    "2. Calc. 90.0% two-tailed confidence interval for the normal distirbution with sample mean= 10, sample std=3, sample size=100"
   ]
  },
  {
   "cell_type": "code",
   "execution_count": null,
   "id": "8aadce21",
   "metadata": {},
   "outputs": [],
   "source": []
  },
  {
   "cell_type": "code",
   "execution_count": null,
   "id": "4a63c5ff",
   "metadata": {},
   "outputs": [],
   "source": []
  },
  {
   "cell_type": "markdown",
   "id": "d43ae294",
   "metadata": {},
   "source": [
    "\n",
    "### 1.2 Hypothesis Testing for One Sample\n",
    "\n",
    "### Performing One-Sample t-test\n"
   ]
  },
  {
   "cell_type": "markdown",
   "id": "5c66e222",
   "metadata": {},
   "source": [
    "### stats.ttest_1samp(sample_data, population_mean)"
   ]
  },
  {
   "cell_type": "markdown",
   "id": "cf9a6fa7",
   "metadata": {},
   "source": [
    "When you call stats.ttest_1samp(sample_data, population_mean), the function performs the following steps:\n",
    "\n",
    "--> It calculates the sample mean of your sample_data.\n",
    "\n",
    "-->It computes the standard error of the mean (SEM) by dividing the standard deviation of the sample by the square root of the sample size.\n",
    "\n",
    "-->It calculates the t-statistic, which is the difference between the sample mean and the population mean (sample_mean - population_mean), divided by the SEM.\n",
    "\n",
    "-->It calculates the p-value based on the t-statistic. This p-value indicates the probability of observing a test statistic as extreme as the t-statistic under the null hypothesis, which states that there is no difference between the sample mean and the population mean.\n"
   ]
  },
  {
   "cell_type": "markdown",
   "id": "56b45e7e",
   "metadata": {},
   "source": [
    "### The function returns two values:\n",
    "\n",
    "t_statistic: The calculated t-statistic for the test.\n",
    "\n",
    "p_value_two_tailed: The two-tailed p-value for the hypothesis test. In the context of the one-sample t-test, a two-tailed p-value assesses the probability of observing a difference between the sample mean and the population mean that is at least as extreme as the one observed, in either direction (greater than or less than)."
   ]
  },
  {
   "cell_type": "code",
   "execution_count": null,
   "id": "ce537950",
   "metadata": {},
   "outputs": [],
   "source": [
    "# Sample data\n",
    "sample_data = np.array([2.3, 2.9, 3.1, 2.8, 3.2, 3.0, 3.3, 2.7, 2.5])\n",
    "# sample_data = np.array([23, 29, 31, 28, 32, 30, 33, 2.7, 2.5])\n",
    "\n",
    "# Hypothesized population mean\n",
    "population_mean = 3"
   ]
  },
  {
   "cell_type": "markdown",
   "id": "41355670",
   "metadata": {},
   "source": [
    "### Here's how to conduct the one-sample two-tailed t-test:\n",
    "\n",
    "Null hypothesis (H0 ): The sample mean is equal to the population mean (μ=3).\n",
    "\n",
    "Alternative hypothesis (H1): The sample mean is not equal to the population mean (μ≠3)."
   ]
  },
  {
   "cell_type": "code",
   "execution_count": null,
   "id": "ef71f648",
   "metadata": {},
   "outputs": [],
   "source": [
    "# Perform the t-test\n",
    "t_statistic, p_value_two_tailed = stats.ttest_1samp(sample_data, population_mean)\n",
    "print(\"t_statistic\",t_statistic)\n",
    "print(\"p_value_two_tailed\",p_value_two_tailed)"
   ]
  },
  {
   "cell_type": "code",
   "execution_count": null,
   "id": "9fbb3e6f",
   "metadata": {},
   "outputs": [],
   "source": [
    "# For a one-tailed test, we divide the two-tailed p-value by 2\n",
    "p_value_one_tailed = p_value_two_tailed / 2\n",
    "print(\"p_value_one_tailed\",p_value_one_tailed)"
   ]
  },
  {
   "cell_type": "code",
   "execution_count": null,
   "id": "1557aa4e",
   "metadata": {},
   "outputs": [],
   "source": [
    "# Significance level\n",
    "alpha = 0.01"
   ]
  },
  {
   "cell_type": "code",
   "execution_count": null,
   "id": "f9ca6de3",
   "metadata": {},
   "outputs": [],
   "source": [
    "# Interpretation for a right-tailed test\n",
    "if p_value_one_tailed <= 0.01:\n",
    "    print(\"Reject the null hypothesis at the 0.01 significance level.\")\n",
    "else:\n",
    "    print(\"Do not reject the null hypothesis at the 0.01 significance level.\")"
   ]
  },
  {
   "cell_type": "code",
   "execution_count": null,
   "id": "5089a903",
   "metadata": {},
   "outputs": [],
   "source": [
    "# Interpretation for a two-tailed test\n",
    "\n",
    "if p_value_two_tailed < 0.01:\n",
    "    print(\"Reject the null hypothesis at the 0.01 significance level.\")\n",
    "else:\n",
    "    print(\"Do not reject the null hypothesis at the 0.01 significance level.\")"
   ]
  },
  {
   "cell_type": "markdown",
   "id": "ae45e298",
   "metadata": {},
   "source": [
    "## Using t value to compare"
   ]
  },
  {
   "cell_type": "code",
   "execution_count": null,
   "id": "d4590928",
   "metadata": {},
   "outputs": [],
   "source": [
    "# Sample data\n",
    "n = len(sample_data)  # Sample size\n",
    "\n",
    "# Degrees of freedom\n",
    "df = n - 1\n",
    "\n",
    "# Perform one-sample t-test to get the t-statistic\n",
    "t_stat, _ = stats.ttest_1samp(sample_data, population_mean)\n",
    "\n",
    "\n",
    "# Find the critical t-value for a two-tailed test at the 0.01 significance level\n",
    "critical_t = stats.t.ppf(1 - 0.01 / 2, df)\n",
    "\n",
    "print(f\"T-statistic: {t_stat}\")\n",
    "print(f\"Critical t-value at 0.01 significance level: ±{critical_t:.2f}\")\n",
    "\n",
    "# Compare the t-statistic with the critical t-value\n",
    "if abs(t_stat) > critical_t:\n",
    "    print(\"Reject the null hypothesis at the 0.01 significance level.\")\n",
    "else:\n",
    "    print(\"Do not reject the null hypothesis at the 0.01 significance level.\")\n"
   ]
  },
  {
   "cell_type": "code",
   "execution_count": null,
   "id": "c2a78535",
   "metadata": {},
   "outputs": [],
   "source": []
  },
  {
   "cell_type": "markdown",
   "id": "51cea2df",
   "metadata": {},
   "source": [
    "## Exercise: \n",
    "Do the one-right tailed and two tailed T test for the following sample, with Significance level of 0.05"
   ]
  },
  {
   "cell_type": "code",
   "execution_count": null,
   "id": "de252945",
   "metadata": {},
   "outputs": [],
   "source": [
    "ex_data =  np.array([23, 29, 31, 28, 32, 30, 33, 27, 2.5])\n",
    "\n",
    "ex_pop_mean = 10 # Hypothesized population mean"
   ]
  },
  {
   "cell_type": "code",
   "execution_count": null,
   "id": "b167a11e",
   "metadata": {},
   "outputs": [],
   "source": [
    "# Sample data\n",
    "n = len(ex_data)  # Sample size\n",
    "\n",
    "# Degrees of freedom\n",
    "df = n - 1\n",
    "\n",
    "# Perform one-sample t-test to get the t-statistic\n",
    "t_stat, _ = stats.ttest_1samp(ex_data, ex_pop_mean)\n",
    "\n",
    "t_stat"
   ]
  },
  {
   "cell_type": "code",
   "execution_count": null,
   "id": "ffae30a9",
   "metadata": {},
   "outputs": [],
   "source": [
    "# Find the critical t-value for a two-tailed test at the 0.01 significance level\n",
    "critical_t = stats.t.ppf(1 - 0.05 / 2, df)\n",
    "\n",
    "print(f\"T-statistic: {t_stat}\")\n",
    "print(f\"Critical t-value at 0.01 significance level: ±{critical_t:.2f}\")\n",
    "\n",
    "# Compare the t-statistic with the critical t-value\n",
    "if abs(t_stat) > critical_t:\n",
    "    print(\"Reject the null hypothesis at the 0.01 significance level.\")\n",
    "else:\n",
    "    print(\"Do not reject the null hypothesis at the 0.01 significance level.\")"
   ]
  },
  {
   "cell_type": "code",
   "execution_count": null,
   "id": "1c94f704",
   "metadata": {},
   "outputs": [],
   "source": []
  },
  {
   "cell_type": "markdown",
   "id": "ab90dd4f",
   "metadata": {},
   "source": [
    "# 2. Comparing Two Samples\n"
   ]
  },
  {
   "cell_type": "markdown",
   "id": "a655ce11",
   "metadata": {},
   "source": [
    "## 2.1 Two independent samples"
   ]
  },
  {
   "cell_type": "code",
   "execution_count": null,
   "id": "527d9bd5",
   "metadata": {},
   "outputs": [],
   "source": [
    "np.random.seed(0)  # Seed for reproducibility\n",
    "sample1 = np.random.normal(100, 10, 100)  # Sample 1: mean 100, std 10, n=100\n",
    "sample2 = np.random.normal(105, 10, 100)  # Sample 2: mean 105, std 10, n=100"
   ]
  },
  {
   "cell_type": "markdown",
   "id": "4f2efa62",
   "metadata": {},
   "source": [
    "## 2.1.1 Confidence Interval for an Independent Sample"
   ]
  },
  {
   "cell_type": "code",
   "execution_count": null,
   "id": "bae72a18",
   "metadata": {},
   "outputs": [],
   "source": [
    "# Calculate Sample Means and Variances\n",
    "mean1, mean2 = np.mean(sample1 ), np.mean(sample2)\n",
    "\n",
    "var1, var2 = np.var(sample1, ddof=1), np.var(sample2, ddof=1)  # ddof=1 for sample variance\n",
    "\n",
    "\n",
    "n1, n2 = len(sample1 ), len(sample2)"
   ]
  },
  {
   "cell_type": "code",
   "execution_count": null,
   "id": "2fee90e8",
   "metadata": {},
   "outputs": [],
   "source": [
    "# Standard error of the difference in means\n",
    "se_diff = np.sqrt(var1/n1 + var2/n2)\n",
    "\n",
    "# Degrees of freedom\n",
    "df = (var1/n1 + var2/n2)**2 / ((var1/n1)**2/(n1-1) + (var2/n2)**2/(n2-1))\n",
    "\n",
    "# Confidence interval\n",
    "confidence_level = 0.95\n",
    "alpha = 1 - confidence_level\n",
    "t_critical = stats.t.ppf(1 - alpha/2, df=df)\n",
    "\n",
    "ci_lower = (mean1 - mean2) - t_critical * se_diff\n",
    "ci_upper = (mean1 - mean2) + t_critical * se_diff\n",
    "\n",
    "print(\"Confidence Interval for Difference Between Means:\", (ci_lower, ci_upper))\n"
   ]
  },
  {
   "cell_type": "markdown",
   "id": "72f51c43",
   "metadata": {},
   "source": [
    "### Interpretation:\n",
    "The confidence interval gives a range where the true difference between the group means is likely to lie. If the interval does not include zero, it suggests a statistically significant difference between the group means."
   ]
  },
  {
   "cell_type": "markdown",
   "id": "4c72d1b5",
   "metadata": {},
   "source": [
    "## 2.1.2 Hypothesis Testing for Two Independent Samples"
   ]
  },
  {
   "cell_type": "markdown",
   "id": "7d7b55e0",
   "metadata": {},
   "source": [
    "###  State the Hypotheses:\n",
    "\n",
    "Null Hypothesis (H0): There is no difference in means between the two populations (mean1 = mean2).\n",
    "\n",
    "Alternative Hypothesis (H1): There is a significant difference in means (mean1 ≠ mean2).\n",
    "\n",
    "Perform an Independent Samples t-Test:\n",
    "Use scipy.stats.ttest_ind to conduct the test. This function returns the test statistic and the p-value."
   ]
  },
  {
   "cell_type": "code",
   "execution_count": null,
   "id": "06bbd8f9",
   "metadata": {},
   "outputs": [],
   "source": [
    "t_statistic, p_value = stats.ttest_ind(sample1, sample2)\n",
    "print(\"t-statistic:\", t_statistic, \"p-value:\", p_value)"
   ]
  },
  {
   "cell_type": "code",
   "execution_count": null,
   "id": "84c44b6a",
   "metadata": {},
   "outputs": [],
   "source": [
    "# Interpretation for a two-tailed test\n",
    "\n",
    "if p_value < 0.05:\n",
    "    print(\"Reject the null hypothesis at the 0.05 significance level.\")\n",
    "    \n",
    "else:\n",
    "    print(\"Do not reject the null hypothesis at the 0.05 significance level.\")"
   ]
  },
  {
   "cell_type": "markdown",
   "id": "07142729",
   "metadata": {},
   "source": [
    "### Interpret the Results:\n",
    "\n",
    "If the p-value is less than the significance level (commonly set at 0.05), reject the null hypothesis. This implies that there is a statistically significant difference between the means of the two samples.\n",
    "\n",
    "If the p-value is greater than the significance level, fail to reject the null hypothesis, suggesting that the data do not provide strong evidence for a difference in means."
   ]
  },
  {
   "cell_type": "markdown",
   "id": "a6a29ab2",
   "metadata": {},
   "source": [
    "## 2.2 Paired Sample Data:"
   ]
  },
  {
   "cell_type": "code",
   "execution_count": null,
   "id": "7913d962",
   "metadata": {},
   "outputs": [],
   "source": [
    "## Generate or Provide Paired Sample Data:\n",
    "np.random.seed(0)  # Seed for reproducibility\n",
    "before = np.random.normal(100, 10, 30)  # Before condition: mean 100, std 10, n=30\n",
    "after = before + np.random.normal(0.1, 3, 30)  # After condition with some changes"
   ]
  },
  {
   "cell_type": "markdown",
   "id": "0a0ef805",
   "metadata": {},
   "source": [
    "## 2.2.1 Confidence Interval for an Dependent Samples "
   ]
  },
  {
   "cell_type": "code",
   "execution_count": null,
   "id": "80650128",
   "metadata": {},
   "outputs": [],
   "source": [
    "## Calculate the Mean Difference and Standard Error:\n",
    "differences = after - before\n",
    "mean_difference = np.mean(differences)\n",
    "se_difference = stats.sem(differences)\n"
   ]
  },
  {
   "cell_type": "code",
   "execution_count": null,
   "id": "63b048b5",
   "metadata": {},
   "outputs": [],
   "source": [
    "#Calculate the Confidence Interval:\n",
    "confidence_level = 0.95\n",
    "degrees_freedom = len(differences) - 1\n",
    "alpha = 1 - confidence_level\n",
    "t_critical = stats.t.ppf(1 - alpha/2, df=degrees_freedom)\n",
    "\n",
    "ci_lower = mean_difference - t_critical * se_difference\n",
    "ci_upper = mean_difference + t_critical * se_difference\n",
    "print(\"Confidence Interval for Mean Difference:\", (ci_lower, ci_upper))\n"
   ]
  },
  {
   "cell_type": "markdown",
   "id": "639c0817",
   "metadata": {},
   "source": [
    "### Interpretation:\n",
    "The calculated confidence interval provides a range of values within which the true mean difference between the 'before' and 'after' conditions is likely to fall, with a given level of confidence (e.g., 95%)."
   ]
  },
  {
   "cell_type": "markdown",
   "id": "76632b10",
   "metadata": {},
   "source": [
    "## 2.2.2 Hypothesis Testing for Two Dependent Samples"
   ]
  },
  {
   "cell_type": "markdown",
   "id": "b9acf74f",
   "metadata": {},
   "source": [
    "### State the Hypotheses:\n",
    "\n",
    "Null Hypothesis: There is no difference in means between the two related groups (mean difference = 0).\n",
    "Alternative Hypothesis: There is a significant difference (mean difference ≠ 0).\n",
    "\n",
    "Perform a Paired Samples t-Test:\n",
    "The test compares two related groups to determine whether there is a statistically significant difference in their means."
   ]
  },
  {
   "cell_type": "code",
   "execution_count": null,
   "id": "353ff6eb",
   "metadata": {},
   "outputs": [],
   "source": [
    "t_statistic, p_value = stats.ttest_rel(before, after)\n",
    "print(\"t-statistic:\", t_statistic, \"p-value:\", p_value)"
   ]
  },
  {
   "cell_type": "code",
   "execution_count": null,
   "id": "f0c65574",
   "metadata": {},
   "outputs": [],
   "source": [
    "# Interpretation for a two-tailed test\n",
    "\n",
    "if p_value < 0.05:\n",
    "    print(\"Reject the null hypothesis at the 0.05 significance level.\")\n",
    "    \n",
    "else:\n",
    "    print(\"Do not reject the null hypothesis at the 0.05 significance level.\")"
   ]
  },
  {
   "cell_type": "markdown",
   "id": "68ce38bd",
   "metadata": {},
   "source": [
    "### Interpret the Results:\n",
    "\n",
    "A small p-value (typically < 0.05) indicates strong evidence against the null hypothesis, suggesting a significant difference in means between the two conditions.\n",
    "\n",
    "A large p-value suggests that there is not enough evidence to reject the null hypothesis of no difference."
   ]
  },
  {
   "cell_type": "markdown",
   "id": "4ca78448",
   "metadata": {},
   "source": [
    "## Exercise:  \n",
    "1. Compare the sample1 and sample2 with 0.01 significance level"
   ]
  },
  {
   "cell_type": "code",
   "execution_count": null,
   "id": "2da7f4c8",
   "metadata": {},
   "outputs": [],
   "source": [
    "np.random.seed(0)  # Seed for reproducibility\n",
    "sample1 = np.random.normal(10, 1, 20)  # Sample 1: mean 10, std 1, n=20\n",
    "sample2 = np.random.normal(15, 10, 20)  # Sample 2: mean 15, std 10, n=20"
   ]
  },
  {
   "cell_type": "markdown",
   "id": "87ffdb24",
   "metadata": {},
   "source": [
    "2. Compare the sample3 and sample4 with 0.01 significance level"
   ]
  },
  {
   "cell_type": "code",
   "execution_count": null,
   "id": "04d128c4",
   "metadata": {},
   "outputs": [],
   "source": [
    "np.random.seed(0)  # Seed for reproducibility\n",
    "sample3 = np.random.normal(10, 1, 200)  # Sample 1: mean 10, std 1, n=200\n",
    "sample4 = np.random.normal(15, 10, 200)  # Sample 2: mean 15, std 10, n=200"
   ]
  },
  {
   "cell_type": "code",
   "execution_count": null,
   "id": "796574fc",
   "metadata": {},
   "outputs": [],
   "source": []
  }
 ],
 "metadata": {
  "kernelspec": {
   "display_name": "Python 3",
   "language": "python",
   "name": "python3"
  },
  "language_info": {
   "codemirror_mode": {
    "name": "ipython",
    "version": 3
   },
   "file_extension": ".py",
   "mimetype": "text/x-python",
   "name": "python",
   "nbconvert_exporter": "python",
   "pygments_lexer": "ipython3",
   "version": "3.8.8"
  }
 },
 "nbformat": 4,
 "nbformat_minor": 5
}
