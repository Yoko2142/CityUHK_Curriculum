{
 "cells": [
  {
   "cell_type": "markdown",
   "metadata": {},
   "source": [
    "# SEE 5211/SEE8212 Data Analysis in Environmental Applications \n",
    "**Sem B 2023/2024**<br>\n",
    "\n",
    "**City University of Hong Kong**<br>\n",
    "**School of Energy and Environment**<br>\n",
    "**Instructors:** Prof. Yiming Qin <br>\n",
    "\n",
    "\n",
    "## Python Tutorial #2 Calculating Mean, Standard Deviation, and Testing Central Limit \n",
    "\n",
    "---\n",
    "\n"
   ]
  },
  {
   "cell_type": "markdown",
   "metadata": {},
   "source": [
    "## 1. Importing modules"
   ]
  },
  {
   "cell_type": "code",
   "execution_count": null,
   "metadata": {},
   "outputs": [],
   "source": [
    "import numpy as np #imports a fast numerical programming library\n",
    "import matplotlib.pyplot as plt # imports a plotting library\n",
    "from scipy.stats import norm\n"
   ]
  },
  {
   "cell_type": "markdown",
   "metadata": {},
   "source": [
    "Now that Numpy has been imported, we can access some useful functions.  For example, we can use `mean` to calculate the mean of a set of numbers."
   ]
  },
  {
   "cell_type": "markdown",
   "metadata": {},
   "source": [
    "## 2. Calculating Mean and Standard Deviation"
   ]
  },
  {
   "cell_type": "code",
   "execution_count": 4,
   "metadata": {},
   "outputs": [],
   "source": [
    "a= [1.2, 2, 3.3, 11,20,229,12, 0.1]"
   ]
  },
  {
   "cell_type": "code",
   "execution_count": 5,
   "metadata": {},
   "outputs": [
    {
     "ename": "NameError",
     "evalue": "name 'np' is not defined",
     "output_type": "error",
     "traceback": [
      "\u001b[0;31m---------------------------------------------------------------------------\u001b[0m",
      "\u001b[0;31mNameError\u001b[0m                                 Traceback (most recent call last)",
      "Cell \u001b[0;32mIn[5], line 1\u001b[0m\n\u001b[0;32m----> 1\u001b[0m \u001b[38;5;28mprint\u001b[39m(\u001b[38;5;124m\"\u001b[39m\u001b[38;5;124mThe mean of a is\u001b[39m\u001b[38;5;124m\"\u001b[39m, \u001b[43mnp\u001b[49m\u001b[38;5;241m.\u001b[39mmean(a),\u001b[38;5;124m\"\u001b[39m\u001b[38;5;130;01m\\n\u001b[39;00m\u001b[38;5;124m\"\u001b[39m,\u001b[38;5;124m\"\u001b[39m\u001b[38;5;124mThe standard deviation of a is\u001b[39m\u001b[38;5;124m\"\u001b[39m, np\u001b[38;5;241m.\u001b[39mstd(a))\n",
      "\u001b[0;31mNameError\u001b[0m: name 'np' is not defined"
     ]
    }
   ],
   "source": [
    "print(\"The mean of a is\", np.mean(a),\"\\n\",\"The standard deviation of a is\", np.std(a))"
   ]
  },
  {
   "cell_type": "markdown",
   "metadata": {},
   "source": [
    "The standard deviation is the square root of the average of the squared deviations from the mean, i.e., std = sqrt(mean(x)), where x = abs(a - a.mean())**2."
   ]
  },
  {
   "cell_type": "code",
   "execution_count": 6,
   "metadata": {},
   "outputs": [
    {
     "ename": "NameError",
     "evalue": "name 'np' is not defined",
     "output_type": "error",
     "traceback": [
      "\u001b[0;31m---------------------------------------------------------------------------\u001b[0m",
      "\u001b[0;31mNameError\u001b[0m                                 Traceback (most recent call last)",
      "Cell \u001b[0;32mIn[6], line 2\u001b[0m\n\u001b[1;32m      1\u001b[0m \u001b[38;5;66;03m# Set seed for reproducibility\u001b[39;00m\n\u001b[0;32m----> 2\u001b[0m \u001b[43mnp\u001b[49m\u001b[38;5;241m.\u001b[39mrandom\u001b[38;5;241m.\u001b[39mseed(\u001b[38;5;241m42\u001b[39m)\n\u001b[1;32m      4\u001b[0m b\u001b[38;5;241m=\u001b[39mnp\u001b[38;5;241m.\u001b[39mrandom\u001b[38;5;241m.\u001b[39mrand(\u001b[38;5;241m100\u001b[39m)\n",
      "\u001b[0;31mNameError\u001b[0m: name 'np' is not defined"
     ]
    }
   ],
   "source": [
    "# Set seed for reproducibility\n",
    "np.random.seed(42)\n",
    "\n",
    "b=np.random.rand(100)"
   ]
  },
  {
   "cell_type": "code",
   "execution_count": 7,
   "metadata": {},
   "outputs": [
    {
     "ename": "NameError",
     "evalue": "name 'np' is not defined",
     "output_type": "error",
     "traceback": [
      "\u001b[0;31m---------------------------------------------------------------------------\u001b[0m",
      "\u001b[0;31mNameError\u001b[0m                                 Traceback (most recent call last)",
      "Cell \u001b[0;32mIn[7], line 1\u001b[0m\n\u001b[0;32m----> 1\u001b[0m \u001b[38;5;28mprint\u001b[39m(\u001b[38;5;124m\"\u001b[39m\u001b[38;5;124mThe mean of b is\u001b[39m\u001b[38;5;124m\"\u001b[39m, \u001b[43mnp\u001b[49m\u001b[38;5;241m.\u001b[39mmean(b),\u001b[38;5;124m\"\u001b[39m\u001b[38;5;130;01m\\n\u001b[39;00m\u001b[38;5;124m\"\u001b[39m,\u001b[38;5;124m\"\u001b[39m\u001b[38;5;124mThe standard deviation of b is\u001b[39m\u001b[38;5;124m\"\u001b[39m, np\u001b[38;5;241m.\u001b[39mstd(b))\n",
      "\u001b[0;31mNameError\u001b[0m: name 'np' is not defined"
     ]
    }
   ],
   "source": [
    "print(\"The mean of b is\", np.mean(b),\"\\n\",\"The standard deviation of b is\", np.std(b))"
   ]
  },
  {
   "cell_type": "markdown",
   "metadata": {},
   "source": [
    "## 3. Testing Central Limit Theorem (CLT)"
   ]
  },
  {
   "cell_type": "markdown",
   "metadata": {},
   "source": [
    "### 3.1 Testing CLT with population follow normal distribution"
   ]
  },
  {
   "cell_type": "code",
   "execution_count": 8,
   "metadata": {},
   "outputs": [
    {
     "ename": "NameError",
     "evalue": "name 'np' is not defined",
     "output_type": "error",
     "traceback": [
      "\u001b[0;31m---------------------------------------------------------------------------\u001b[0m",
      "\u001b[0;31mNameError\u001b[0m                                 Traceback (most recent call last)",
      "Cell \u001b[0;32mIn[8], line 7\u001b[0m\n\u001b[1;32m      4\u001b[0m std_dev \u001b[38;5;241m=\u001b[39m \u001b[38;5;241m10\u001b[39m          \u001b[38;5;66;03m# Standard deviation of the normal distribution\u001b[39;00m\n\u001b[1;32m      6\u001b[0m \u001b[38;5;66;03m# Generate a normal distribution\u001b[39;00m\n\u001b[0;32m----> 7\u001b[0m population \u001b[38;5;241m=\u001b[39m \u001b[43mnp\u001b[49m\u001b[38;5;241m.\u001b[39mrandom\u001b[38;5;241m.\u001b[39mnormal(mean, std_dev, population_size)\n\u001b[1;32m      9\u001b[0m \u001b[38;5;66;03m# Plotting the population distribution\u001b[39;00m\n\u001b[1;32m     11\u001b[0m plt\u001b[38;5;241m.\u001b[39mrcParams\u001b[38;5;241m.\u001b[39mupdate({\u001b[38;5;124m'\u001b[39m\u001b[38;5;124mfont.size\u001b[39m\u001b[38;5;124m'\u001b[39m: \u001b[38;5;241m20\u001b[39m})\n",
      "\u001b[0;31mNameError\u001b[0m: name 'np' is not defined"
     ]
    }
   ],
   "source": [
    "# Define parameters for the normal distribution\n",
    "population_size = 100000  # Size of our normal population with one hundred thousand\n",
    "mean = 50.0               # Mean of the normal distribution\n",
    "std_dev = 10          # Standard deviation of the normal distribution\n",
    "\n",
    "# Generate a normal distribution\n",
    "population = np.random.normal(mean, std_dev, population_size)\n",
    "\n",
    "# Plotting the population distribution\n",
    "\n",
    "plt.rcParams.update({'font.size': 20})\n",
    "\n",
    "plt.hist(population, bins=100,  density=True)\n",
    "plt.title('Population Distribution (Normal)')\n",
    "plt.xlabel('Value')\n",
    "plt.ylabel('Frequency')\n",
    "\n",
    "# Optionally, plot the PDF of the theoretical normal distribution\n",
    "x = np.linspace(min(population), max(population), 1000)\n",
    "p = (1 / (std_dev * np.sqrt(2 * np.pi))) * np.exp(-0.5 * ((x - mean) / std_dev) ** 2)\n",
    "plt.plot(x, p, 'r', linewidth=2)\n",
    "\n",
    "\n",
    "\n",
    "plt.show()"
   ]
  },
  {
   "cell_type": "code",
   "execution_count": 9,
   "metadata": {},
   "outputs": [
    {
     "ename": "NameError",
     "evalue": "name 'plt' is not defined",
     "output_type": "error",
     "traceback": [
      "\u001b[0;31m---------------------------------------------------------------------------\u001b[0m",
      "\u001b[0;31mNameError\u001b[0m                                 Traceback (most recent call last)",
      "Cell \u001b[0;32mIn[9], line 11\u001b[0m\n\u001b[1;32m      8\u001b[0m     \u001b[38;5;28;01mreturn\u001b[39;00m means\n\u001b[1;32m     10\u001b[0m \u001b[38;5;66;03m# Set up the figure\u001b[39;00m\n\u001b[0;32m---> 11\u001b[0m \u001b[43mplt\u001b[49m\u001b[38;5;241m.\u001b[39mfigure(figsize\u001b[38;5;241m=\u001b[39m(\u001b[38;5;241m14\u001b[39m, \u001b[38;5;241m8\u001b[39m))\n\u001b[1;32m     13\u001b[0m \u001b[38;5;66;03m# Loop through the various numbers of samples and plot their distributions\u001b[39;00m\n\u001b[1;32m     14\u001b[0m \u001b[38;5;28;01mfor\u001b[39;00m i, number_of_samples \u001b[38;5;129;01min\u001b[39;00m \u001b[38;5;28menumerate\u001b[39m(number_of_samples_list, start\u001b[38;5;241m=\u001b[39m\u001b[38;5;241m1\u001b[39m):\n\u001b[1;32m     15\u001b[0m     \u001b[38;5;66;03m# Draw samples and compute their means\u001b[39;00m\n",
      "\u001b[0;31mNameError\u001b[0m: name 'plt' is not defined"
     ]
    }
   ],
   "source": [
    "# Define sample parameters\n",
    "sample_size = 30\n",
    "number_of_samples_list = [10, 100, 1000, 10000]  # List of different numbers of samples\n",
    "\n",
    "# Function to draw samples and compute their means\n",
    "def sample_means(population, sample_size, number_of_samples):\n",
    "    means = [np.mean(np.random.choice(population, size=sample_size, replace=True)) for _ in range(number_of_samples)]\n",
    "    return means\n",
    "\n",
    "# Set up the figure\n",
    "plt.figure(figsize=(14, 8))\n",
    "\n",
    "# Loop through the various numbers of samples and plot their distributions\n",
    "for i, number_of_samples in enumerate(number_of_samples_list, start=1):\n",
    "    # Draw samples and compute their means\n",
    "    sample_means_list = sample_means(population, sample_size, number_of_samples)\n",
    "    \n",
    "    # Set up the subplot\n",
    "    plt.subplot(2, 2, i)\n",
    "    \n",
    "    # Plotting the distribution of sample means\n",
    "    plt.hist(sample_means_list, bins='auto', color='skyblue', edgecolor='black', density=True)\n",
    "    plt.title(f'Distribution of {number_of_samples} Sample Means')\n",
    "    plt.xlabel('Sample Mean')\n",
    "    plt.ylabel('Frequency')\n",
    "    \n",
    "    # Fit a normal distribution to the sample means\n",
    "    sample_means_mu, sample_means_std = norm.fit(sample_means_list)\n",
    "    \n",
    "    # Plot the PDF of the fitted normal distribution\n",
    "    xmin, xmax = plt.xlim()\n",
    "    x = np.linspace(xmin, xmax, 100)\n",
    "    p = norm.pdf(x, sample_means_mu, sample_means_std)\n",
    "    plt.plot(x, p, 'k', linewidth=2)\n",
    "    \n",
    "    # Display fitted parameters\n",
    "    title = f\"Fit results: mu = {sample_means_mu:.2f}, std = {sample_means_std:.2f}\"\n",
    "    plt.title(title)\n",
    "\n",
    "# Adjust layout to prevent overlap\n",
    "plt.tight_layout()\n",
    "\n",
    "# Show the plot\n",
    "plt.show()"
   ]
  },
  {
   "cell_type": "code",
   "execution_count": 10,
   "metadata": {},
   "outputs": [
    {
     "ename": "ModuleNotFoundError",
     "evalue": "No module named 'numpy'",
     "output_type": "error",
     "traceback": [
      "\u001b[0;31m---------------------------------------------------------------------------\u001b[0m",
      "\u001b[0;31mModuleNotFoundError\u001b[0m                       Traceback (most recent call last)",
      "Cell \u001b[0;32mIn[10], line 1\u001b[0m\n\u001b[0;32m----> 1\u001b[0m \u001b[38;5;28;01mimport\u001b[39;00m \u001b[38;5;21;01mnumpy\u001b[39;00m \u001b[38;5;28;01mas\u001b[39;00m \u001b[38;5;21;01mnp\u001b[39;00m\n\u001b[1;32m      2\u001b[0m \u001b[38;5;28;01mimport\u001b[39;00m \u001b[38;5;21;01mmatplotlib\u001b[39;00m\u001b[38;5;21;01m.\u001b[39;00m\u001b[38;5;21;01mpyplot\u001b[39;00m \u001b[38;5;28;01mas\u001b[39;00m \u001b[38;5;21;01mplt\u001b[39;00m\n\u001b[1;32m      4\u001b[0m \u001b[38;5;66;03m# Set seed for reproducibility\u001b[39;00m\n",
      "\u001b[0;31mModuleNotFoundError\u001b[0m: No module named 'numpy'"
     ]
    }
   ],
   "source": [
    "import numpy as np\n",
    "import matplotlib.pyplot as plt\n",
    "\n",
    "# Set seed for reproducibility\n",
    "np.random.seed(42)\n",
    "\n",
    "# Define parameters for two normal distributions\n",
    "mean1 = 40\n",
    "std1 = 5\n",
    "size1 = 10000\n",
    "\n",
    "mean2 = 60\n",
    "std2 = 5\n",
    "size2 = 20000\n",
    "\n",
    "# Generate two normal distributions\n",
    "distribution1 = np.random.normal(mean1, std1, size1)\n",
    "distribution2 = np.random.normal(mean2, std2, size2)\n",
    "\n",
    "# Combine the two distributions to create a bimodal distribution\n",
    "bimodal_population = np.concatenate((distribution1, distribution2))\n",
    "\n",
    "# Plot the bimodal distribution\n",
    "plt.figure(figsize=(10, 6))\n",
    "plt.hist(bimodal_population, bins=50, color='skyblue', edgecolor='black')\n",
    "plt.title('Bimodal Population Distribution')\n",
    "plt.xlabel('Value')\n",
    "plt.ylabel('Frequency')\n",
    "plt.show()"
   ]
  },
  {
   "cell_type": "code",
   "execution_count": null,
   "metadata": {},
   "outputs": [],
   "source": [
    "# Set seed for reproducibility\n",
    "np.random.seed(42)\n",
    "\n",
    "# Define parameters for two normal distributions to create a bimodal distribution\n",
    "mean1 = 40\n",
    "std1 = 5\n",
    "size1 = 10000\n",
    "\n",
    "mean2 = 60\n",
    "std2 = 5\n",
    "size2 = 20000\n",
    "\n",
    "# Generate two normal distributions\n",
    "distribution1 = np.random.normal(mean1, std1, size1)\n",
    "distribution2 = np.random.normal(mean2, std2, size2)\n",
    "\n",
    "# Combine the two distributions to create a bimodal population\n",
    "bimodal_population = np.concatenate((distribution1, distribution2))\n",
    "\n",
    "# Define sample size and the numbers of samples to draw\n",
    "sample_size = 30\n",
    "number_of_samples_list = [50, 100, 1000, 10000]\n",
    "\n",
    "# Function to draw samples and compute their means\n",
    "def sample_means(population, sample_size, number_of_samples):\n",
    "    means = [np.mean(np.random.choice(population, sample_size)) for _ in range(number_of_samples)]\n",
    "    return means\n",
    "\n",
    "# Set up the figure\n",
    "plt.figure(figsize=(14, 10))\n",
    "\n",
    "# Loop through the various numbers of samples and plot their distributions\n",
    "for i, number_of_samples in enumerate(number_of_samples_list):\n",
    "    # Draw samples and compute their means\n",
    "    sample_means_list = sample_means(bimodal_population, sample_size, number_of_samples)\n",
    "    \n",
    "    # Set up the subplot\n",
    "    plt.subplot(2, 2, i+1)\n",
    "    \n",
    "    # Plotting the distribution of sample means\n",
    "    plt.hist(sample_means_list, bins='auto', color='skyblue', edgecolor='black', density=True)\n",
    "    plt.title(f'n={number_of_samples}')\n",
    "    plt.xlabel('Sample Mean')\n",
    "    plt.ylabel('Density')\n",
    "    \n",
    "    # Calculate and plot the theoretical normal distribution based on the sample means\n",
    "    mu, std = norm.fit(sample_means_list)\n",
    "    xmin, xmax = plt.xlim()\n",
    "    x = np.linspace(xmin, xmax, 100)\n",
    "    p = norm.pdf(x, mu, std)\n",
    "    plt.plot(x, p, 'k', linewidth=2)\n",
    "    plt.title(f'Sample Means (n={number_of_samples}, \"\\n\",mu={mu:.2f}, std={std:.2f})')\n",
    "\n",
    "# Adjust layout to prevent overlap\n",
    "plt.tight_layout()\n",
    "\n",
    "# Show the plot\n",
    "plt.show()"
   ]
  },
  {
   "cell_type": "code",
   "execution_count": null,
   "metadata": {},
   "outputs": [],
   "source": []
  },
  {
   "cell_type": "code",
   "execution_count": null,
   "metadata": {},
   "outputs": [],
   "source": [
    "# Define parameters\n",
    "population_size = 100000  # Size of our non-normal population\n",
    "\n",
    "# Generate a non-normal population (e.g., uniform distribution between 0 and 1)\n",
    "uniform_population = np.random.uniform(low=0.0, high=1.0, size=population_size)\n",
    "\n",
    "# Plotting the population distribution\n",
    "plt.hist(uniform_population, bins=30, edgecolor='black', density=True)\n",
    "plt.title('Population Distribution (Uniform)')\n",
    "plt.xlabel('Value')\n",
    "plt.ylabel('Frequency')\n",
    "plt.show()"
   ]
  },
  {
   "cell_type": "code",
   "execution_count": null,
   "metadata": {},
   "outputs": [],
   "source": [
    "\n",
    "# Define sample size and the number of samples to draw\n",
    "sample_size = 30\n",
    "number_of_samples_list = [50, 100, 1000, 5000]\n",
    "\n",
    "# Function to draw samples and compute their means\n",
    "def sample_means(population, sample_size, number_of_samples):\n",
    "    means = [np.mean(np.random.choice(population, sample_size)) for _ in range(number_of_samples)]\n",
    "    return means\n",
    "\n",
    "# Set up the figure\n",
    "plt.figure(figsize=(14, 10))\n",
    "\n",
    "# Loop through the various numbers of samples and plot their distributions\n",
    "for i, number_of_samples in enumerate(number_of_samples_list):\n",
    "    # Draw samples and compute their means\n",
    "    sample_means_list = sample_means(uniform_population, sample_size, number_of_samples)\n",
    "    \n",
    "    # Set up the subplot\n",
    "    plt.subplot(2, 2, i+1)\n",
    "    \n",
    "    # Plotting the distribution of sample means\n",
    "    plt.hist(sample_means_list, bins='auto', color='skyblue', edgecolor='black', density=True)\n",
    "    plt.title(f'n={number_of_samples}')\n",
    "    plt.xlabel('Sample Mean')\n",
    "    plt.ylabel('Density')\n",
    "    \n",
    "    # Calculate and plot the theoretical normal distribution based on the sample means\n",
    "    mu, std = norm.fit(sample_means_list)\n",
    "    xmin, xmax = plt.xlim()\n",
    "    x = np.linspace(xmin, xmax, 100)\n",
    "    p = norm.pdf(x, mu, std)\n",
    "    plt.plot(x, p, 'k', linewidth=2)\n",
    "    plt.title(f'Sample Means (n={number_of_samples}, \"\\n\",mu={mu:.2f}, std={std:.2f})')\n",
    "\n",
    "# Adjust layout to prevent overlap\n",
    "plt.tight_layout()\n",
    "\n",
    "# Show the plot\n",
    "plt.show()"
   ]
  },
  {
   "cell_type": "code",
   "execution_count": null,
   "metadata": {},
   "outputs": [],
   "source": []
  },
  {
   "cell_type": "code",
   "execution_count": null,
   "metadata": {},
   "outputs": [],
   "source": []
  }
 ],
 "metadata": {
  "anaconda-cloud": {},
  "kernelspec": {
   "display_name": "Python 3 (ipykernel)",
   "language": "python",
   "name": "python3"
  },
  "language_info": {
   "codemirror_mode": {
    "name": "ipython",
    "version": 3
   },
   "file_extension": ".py",
   "mimetype": "text/x-python",
   "name": "python",
   "nbconvert_exporter": "python",
   "pygments_lexer": "ipython3",
   "version": "3.11.7"
  }
 },
 "nbformat": 4,
 "nbformat_minor": 4
}
